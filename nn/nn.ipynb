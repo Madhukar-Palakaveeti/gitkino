{
 "cells": [
  {
   "cell_type": "markdown",
   "metadata": {},
   "source": [
    "# Imports"
   ]
  },
  {
   "cell_type": "code",
   "execution_count": 116,
   "metadata": {},
   "outputs": [],
   "source": [
    "import numpy as np\n",
    "import pandas as pd\n",
    "from sklearn.preprocessing import StandardScaler"
   ]
  },
  {
   "cell_type": "code",
   "execution_count": 123,
   "metadata": {},
   "outputs": [],
   "source": [
    "def language_count(garbage):\n",
    "    top_tier_languages = {'Python','C', 'C++', 'JavaScript', 'TypeScript', 'Ruby', 'Rust', 'Lua', 'Assembly', 'Zig'}\n",
    "    return len(set(garbage.replace(' ', '').replace('{', '').replace('}','').replace(\"\\'\", '').split(',')) & top_tier_languages)\n"
   ]
  },
  {
   "cell_type": "markdown",
   "metadata": {},
   "source": [
    "# Dataset"
   ]
  },
  {
   "cell_type": "code",
   "execution_count": 117,
   "metadata": {},
   "outputs": [
    {
     "name": "stdout",
     "output_type": "stream",
     "text": [
      "['stiff' 'https://api.github.com/users/stiff' 'https://github.com/stiff'\n",
      " 'https://api.github.com/users/stiff/repos' 14 84 21 84\n",
      " \"{'Python', 'CoffeeScript', 'Ruby', 'JavaScript'}\" 21 0]\n"
     ]
    }
   ],
   "source": [
    "small_labeled_data = pd.read_csv('resources/req_dataset.csv')\n",
    "small_labeled_data = np.array(small_labeled_data)\n",
    "print(small_labeled_data[0])"
   ]
  },
  {
   "cell_type": "markdown",
   "metadata": {},
   "source": [
    "# Unlabeled dataset\n"
   ]
  },
  {
   "cell_type": "code",
   "execution_count": 118,
   "metadata": {},
   "outputs": [
    {
     "name": "stdout",
     "output_type": "stream",
     "text": [
      "(15000, 12)\n"
     ]
    }
   ],
   "source": [
    "unlabeled_data =  pd.read_csv('resources/labeled_data.csv')\n",
    "unlabeled_data = np.array(unlabeled_data)[:15000]\n",
    "print(unlabeled_data.shape)"
   ]
  },
  {
   "cell_type": "code",
   "execution_count": 124,
   "metadata": {},
   "outputs": [
    {
     "data": {
      "text/plain": [
       "array([172,  78,  19,  30,   4,   0])"
      ]
     },
     "execution_count": 124,
     "metadata": {},
     "output_type": "execute_result"
    }
   ],
   "source": [
    "processed_unlabeled_data = np.zeros((15000, 6), dtype=int)\n",
    "processed_unlabeled_data[:, :4] = unlabeled_data[:, (4,6,7,11)].astype(int)\n",
    "processed_unlabeled_data[:, -2] = np.array([language_count(langs) for langs in unlabeled_data[:, 9]])\n",
    "processed_unlabeled_data[200]"
   ]
  },
  {
   "cell_type": "markdown",
   "metadata": {},
   "source": [
    "# Data Processing\n",
    "- Get the relevant columns i.e., (4,6,7,9,11)"
   ]
  },
  {
   "cell_type": "code",
   "execution_count": 120,
   "metadata": {},
   "outputs": [
    {
     "data": {
      "text/plain": [
       "dtype('int64')"
      ]
     },
     "execution_count": 120,
     "metadata": {},
     "output_type": "execute_result"
    }
   ],
   "source": [
    "processed_labeled_data = np.zeros((3000, 5), dtype=int)\n",
    "y = small_labeled_data[:, -1].astype(np.int64)\n",
    "y.dtype"
   ]
  },
  {
   "cell_type": "code",
   "execution_count": 121,
   "metadata": {},
   "outputs": [
    {
     "data": {
      "text/plain": [
       "array([172,  78,  19,  30,   0])"
      ]
     },
     "execution_count": 121,
     "metadata": {},
     "output_type": "execute_result"
    }
   ],
   "source": [
    "processed_labeled_data[:, :4] = small_labeled_data[:, (4,5,6,9)].astype(int)\n",
    "processed_labeled_data[:][200]"
   ]
  },
  {
   "cell_type": "code",
   "execution_count": 125,
   "metadata": {},
   "outputs": [
    {
     "data": {
      "text/plain": [
       "array([172,  78,  19,  30,   4])"
      ]
     },
     "execution_count": 125,
     "metadata": {},
     "output_type": "execute_result"
    }
   ],
   "source": [
    "processed_labeled_data[:, -1] = np.array([language_count(langs) for langs in small_labeled_data[:, 8]])\n",
    "processed_labeled_data.shape\n",
    "processed_labeled_data[200]\n"
   ]
  },
  {
   "cell_type": "code",
   "execution_count": 133,
   "metadata": {},
   "outputs": [],
   "source": [
    "scaler = StandardScaler()\n",
    "processed_labeled_data = scaler.fit_transform(processed_labeled_data)\n",
    "np.save('resources/processed_labeled_data.npy', {'0' : processed_labeled_data, '1' : y})"
   ]
  },
  {
   "cell_type": "code",
   "execution_count": 8,
   "metadata": {},
   "outputs": [
    {
     "data": {
      "text/plain": [
       "(3000, 2)"
      ]
     },
     "execution_count": 8,
     "metadata": {},
     "output_type": "execute_result"
    }
   ],
   "source": [
    "y_label = np.zeros((len(y), len(np.unique(y))), dtype=np.int64)\n",
    "y_label[np.arange(len(y)), y] = 1\n",
    "y_label.shape\n"
   ]
  },
  {
   "cell_type": "code",
   "execution_count": 127,
   "metadata": {},
   "outputs": [
    {
     "data": {
      "text/plain": [
       "(8000, 5)"
      ]
     },
     "execution_count": 127,
     "metadata": {},
     "output_type": "execute_result"
    }
   ],
   "source": [
    "# First batch \n",
    "first_batch = scaler.fit_transform(processed_unlabeled_data[:8000, :5])\n",
    "first_batch.shape"
   ]
  },
  {
   "cell_type": "markdown",
   "metadata": {},
   "source": [
    "# Neural network\n"
   ]
  },
  {
   "cell_type": "code",
   "execution_count": 9,
   "metadata": {},
   "outputs": [],
   "source": [
    "# @title Neural Network\n",
    "class Layer_Dense:\n",
    "  def __init__(self,n_inputs,n_neurons):\n",
    "    self.weights = 0.01 * np.random.randn(n_inputs,n_neurons)\n",
    "    self.biases = np.zeros((1,n_neurons))\n",
    "\n",
    "  def forward(self,inputs):\n",
    "    self.output = np.dot(inputs, self.weights)+ self.biases\n",
    "\n",
    "  def parameters(self):\n",
    "    return self.weights\n",
    "\n",
    "class Activation_ReLU:\n",
    "  def forward(self,inputs):\n",
    "    self.output = np.maximum(0,inputs)\n",
    "\n",
    "class Activation_Softmax:\n",
    "  def forward(self,inputs):\n",
    "    exp_values = np.exp(inputs - np.max(inputs,axis=1,keepdims=True))\n",
    "    probabilities = exp_values/np.sum(exp_values,axis=1,keepdims=True)\n",
    "    self.output = probabilities\n",
    "\n",
    "\n",
    "class Loss_Categoricalcrossentropy():\n",
    "  def forward(self, probs, y_true):\n",
    "    samples = len(probs)\n",
    "    probs_clipped = np.clip(probs, 1e-7, 1 - 1e-7)\n",
    "    #negative_log_likelihoods = -np.sum(y_true*np.log(probs_clipped))\n",
    "    #final_loss = np.sum(negative_log_likelihoods)/samples\n",
    "    correct_confidences = np.sum(probs_clipped * y_true, axis=1)\n",
    "    n_l_l = -np.log(correct_confidences)\n",
    "    final_loss = np.mean(n_l_l)\n",
    "    return final_loss\n"
   ]
  },
  {
   "cell_type": "markdown",
   "metadata": {},
   "source": [
    "# Creating the layers and activations"
   ]
  },
  {
   "cell_type": "code",
   "execution_count": 10,
   "metadata": {},
   "outputs": [],
   "source": [
    "layer1 = Layer_Dense(5,32)\n",
    "layer2 = Layer_Dense(32,2)\n",
    "activation1 = Activation_ReLU()\n",
    "activation2 = Activation_Softmax()"
   ]
  },
  {
   "cell_type": "markdown",
   "metadata": {},
   "source": [
    "# Forward pass"
   ]
  },
  {
   "cell_type": "code",
   "execution_count": 129,
   "metadata": {},
   "outputs": [
    {
     "name": "stdout",
     "output_type": "stream",
     "text": [
      "(3000, 32)\n",
      "(3000, 2)\n"
     ]
    }
   ],
   "source": [
    "layer1.forward(processed_labeled_data)\n",
    "activation1.forward(layer1.output)\n",
    "a1 = activation1.output\n",
    "print(a1.shape)\n",
    "layer2.forward(activation1.output)\n",
    "activation2.forward(layer2.output)\n",
    "logits = activation2.output\n",
    "print(logits.shape)"
   ]
  },
  {
   "cell_type": "markdown",
   "metadata": {},
   "source": [
    "# Loss"
   ]
  },
  {
   "cell_type": "code",
   "execution_count": 130,
   "metadata": {},
   "outputs": [
    {
     "name": "stdout",
     "output_type": "stream",
     "text": [
      "Accuracy:40.400000000000006\n"
     ]
    }
   ],
   "source": [
    "# loss_function = Loss_Categoricalcrossentropy()\n",
    "# loss = loss_function.forward(logits,y_label)\n",
    "# print(f\"Loss : {loss}\")\n",
    "\n",
    "y_pred = np.argmax(activation2.output,axis=1)\n",
    "accuracy = np.mean(y_pred == y)\n",
    "print(f\"Accuracy:{accuracy*100}\")\n"
   ]
  },
  {
   "cell_type": "markdown",
   "metadata": {},
   "source": [
    "# Backward pass"
   ]
  },
  {
   "cell_type": "code",
   "execution_count": 13,
   "metadata": {},
   "outputs": [],
   "source": [
    "w1 = layer1.weights\n",
    "w2 = layer2.weights\n",
    "da2 = (logits - y_label)\n",
    "dw2 = a1.T @ da2\n",
    "db2 = np.sum(da2,axis=0)\n",
    "da1 = da2 @ w2.T\n",
    "dz1 = da1 * (a1 > 0)\n",
    "dw1 = processed_labeled_data.T @ dz1\n",
    "db1 = np.sum(dz1,axis=0)"
   ]
  },
  {
   "cell_type": "markdown",
   "metadata": {},
   "source": [
    "# Gradient descent"
   ]
  },
  {
   "cell_type": "code",
   "execution_count": 14,
   "metadata": {},
   "outputs": [],
   "source": [
    "\n",
    "learning_rate = 0.0001\n",
    "layer1.weights -= learning_rate * dw1\n",
    "layer2.weights -= learning_rate * dw2\n",
    "\n",
    "layer1.biases -= learning_rate * db1\n",
    "layer2.biases -= learning_rate * db2\n"
   ]
  },
  {
   "cell_type": "markdown",
   "metadata": {},
   "source": [
    "# Training loop"
   ]
  },
  {
   "cell_type": "code",
   "execution_count": 109,
   "metadata": {},
   "outputs": [
    {
     "name": "stdout",
     "output_type": "stream",
     "text": [
      "Loss : 0.09172424462977354, Accuracy:96.13333333333334\n",
      "Loss : 0.09172398414165112, Accuracy:96.13333333333334\n",
      "Loss : 0.09172372364912659, Accuracy:96.13333333333334\n",
      "Loss : 0.09172346321739966, Accuracy:96.13333333333334\n",
      "Loss : 0.09172320277272115, Accuracy:96.13333333333334\n",
      "Loss : 0.09172294239611388, Accuracy:96.13333333333334\n",
      "Loss : 0.09172268200387775, Accuracy:96.13333333333334\n",
      "Loss : 0.09172242166664442, Accuracy:96.13333333333334\n",
      "Loss : 0.09172216133708543, Accuracy:96.13333333333334\n",
      "Loss : 0.0917219010378246, Accuracy:96.13333333333334\n",
      "Loss : 0.09172164077425718, Accuracy:96.13333333333334\n",
      "Loss : 0.09172138051484202, Accuracy:96.13333333333334\n",
      "Loss : 0.09172112031419807, Accuracy:96.13333333333334\n",
      "Loss : 0.09172086009596664, Accuracy:96.13333333333334\n",
      "Loss : 0.09172059994823754, Accuracy:96.13333333333334\n",
      "Loss : 0.09172033978742519, Accuracy:96.13333333333334\n",
      "Loss : 0.09172007967944554, Accuracy:96.13333333333334\n",
      "Loss : 0.09171981958535491, Accuracy:96.13333333333334\n",
      "Loss : 0.09171955951858922, Accuracy:96.13333333333334\n",
      "Loss : 0.09171929948001008, Accuracy:96.13333333333334\n",
      "Loss : 0.09171903945165805, Accuracy:96.13333333333334\n",
      "Loss : 0.09171877947771018, Accuracy:96.13333333333334\n",
      "Loss : 0.09171851948852919, Accuracy:96.13333333333334\n",
      "Loss : 0.09171825957612813, Accuracy:96.13333333333334\n",
      "Loss : 0.09171799964296279, Accuracy:96.13333333333334\n",
      "Loss : 0.09171773976430157, Accuracy:96.13333333333334\n",
      "Loss : 0.09171747989575002, Accuracy:96.13333333333334\n",
      "Loss : 0.09171722005555481, Accuracy:96.13333333333334\n",
      "Loss : 0.09171696024821537, Accuracy:96.13333333333334\n",
      "Loss : 0.09171670044978639, Accuracy:96.13333333333334\n",
      "Loss : 0.09171644070625541, Accuracy:96.13333333333334\n",
      "Loss : 0.09171618094920093, Accuracy:96.13333333333334\n",
      "Loss : 0.09171592126250497, Accuracy:96.13333333333334\n",
      "Loss : 0.09171566155975355, Accuracy:96.13333333333334\n",
      "Loss : 0.09171540191415457, Accuracy:96.13333333333334\n",
      "Loss : 0.09171514227169458, Accuracy:96.13333333333334\n",
      "Loss : 0.09171488266367112, Accuracy:96.13333333333334\n",
      "Loss : 0.09171462308825966, Accuracy:96.13333333333334\n",
      "Loss : 0.09171436351522777, Accuracy:96.13333333333334\n",
      "Loss : 0.09171410400135903, Accuracy:96.13333333333334\n",
      "Loss : 0.09171384447343982, Accuracy:96.13333333333334\n",
      "Loss : 0.09171358501264547, Accuracy:96.13333333333334\n",
      "Loss : 0.09171332554053085, Accuracy:96.13333333333334\n",
      "Loss : 0.09171306612206272, Accuracy:96.13333333333334\n",
      "Loss : 0.09171280671059048, Accuracy:96.13333333333334\n",
      "Loss : 0.09171254732993755, Accuracy:96.13333333333334\n",
      "Loss : 0.09171228798125163, Accuracy:96.13333333333334\n",
      "Loss : 0.09171202863745612, Accuracy:96.13333333333334\n",
      "Loss : 0.09171176935433459, Accuracy:96.13333333333334\n",
      "Loss : 0.0917115100537635, Accuracy:96.13333333333334\n",
      "Loss : 0.09171125082734186, Accuracy:96.13333333333334\n",
      "Loss : 0.09171099158669697, Accuracy:96.13333333333334\n",
      "Loss : 0.09171073240387918, Accuracy:96.13333333333334\n",
      "Loss : 0.09171047323762428, Accuracy:96.13333333333334\n",
      "Loss : 0.09171021405674055, Accuracy:96.13333333333334\n",
      "Loss : 0.09170995487063915, Accuracy:96.13333333333334\n",
      "Loss : 0.09170969568584267, Accuracy:96.13333333333334\n",
      "Loss : 0.09170943656467906, Accuracy:96.13333333333334\n",
      "Loss : 0.09170917741881773, Accuracy:96.13333333333334\n",
      "Loss : 0.09170891818961813, Accuracy:96.13333333333334\n",
      "Loss : 0.09170865895478895, Accuracy:96.13333333333334\n",
      "Loss : 0.09170839977793582, Accuracy:96.13333333333334\n",
      "Loss : 0.09170814063821547, Accuracy:96.13333333333334\n",
      "Loss : 0.09170788151245043, Accuracy:96.13333333333334\n",
      "Loss : 0.09170762244044249, Accuracy:96.13333333333334\n",
      "Loss : 0.09170736335227817, Accuracy:96.13333333333334\n",
      "Loss : 0.09170710433777492, Accuracy:96.13333333333334\n",
      "Loss : 0.09170684530395509, Accuracy:96.13333333333334\n",
      "Loss : 0.09170658632813858, Accuracy:96.13333333333334\n",
      "Loss : 0.09170632735905261, Accuracy:96.13333333333334\n",
      "Loss : 0.09170606841998377, Accuracy:96.13333333333334\n",
      "Loss : 0.09170580951358354, Accuracy:96.13333333333334\n",
      "Loss : 0.09170555061377422, Accuracy:96.13333333333334\n",
      "Loss : 0.0917052917688736, Accuracy:96.13333333333334\n",
      "Loss : 0.09170503290966914, Accuracy:96.13333333333334\n",
      "Loss : 0.09170477412011215, Accuracy:96.13333333333334\n",
      "Loss : 0.09170451531652772, Accuracy:96.13333333333334\n",
      "Loss : 0.09170425656282596, Accuracy:96.13333333333334\n",
      "Loss : 0.09170399782810969, Accuracy:96.13333333333334\n",
      "Loss : 0.09170373910939449, Accuracy:96.13333333333334\n",
      "Loss : 0.09170348043709077, Accuracy:96.13333333333334\n",
      "Loss : 0.09170322175671482, Accuracy:96.13333333333334\n",
      "Loss : 0.09170296314568627, Accuracy:96.13333333333334\n",
      "Loss : 0.0917027045165872, Accuracy:96.13333333333334\n",
      "Loss : 0.09170244594603585, Accuracy:96.13333333333334\n",
      "Loss : 0.09170218737841823, Accuracy:96.13333333333334\n",
      "Loss : 0.09170192884863604, Accuracy:96.13333333333334\n",
      "Loss : 0.09170167034631205, Accuracy:96.13333333333334\n",
      "Loss : 0.09170141185058855, Accuracy:96.13333333333334\n",
      "Loss : 0.09170115341478788, Accuracy:96.13333333333334\n",
      "Loss : 0.09170089496199783, Accuracy:96.13333333333334\n",
      "Loss : 0.09170063657931551, Accuracy:96.13333333333334\n",
      "Loss : 0.09170037818492688, Accuracy:96.13333333333334\n",
      "Loss : 0.09170011983850455, Accuracy:96.13333333333334\n",
      "Loss : 0.09169986151090405, Accuracy:96.13333333333334\n",
      "Loss : 0.0916996031986023, Accuracy:96.13333333333334\n",
      "Loss : 0.09169934493267723, Accuracy:96.13333333333334\n",
      "Loss : 0.09169908665965998, Accuracy:96.13333333333334\n",
      "Loss : 0.09169882845663918, Accuracy:96.13333333333334\n",
      "Loss : 0.09169857023440793, Accuracy:96.13333333333334\n"
     ]
    }
   ],
   "source": [
    "learning_rate = 0.000009\n",
    "\n",
    "for _ in range(100):\n",
    "    layer1.forward(processed_labeled_data)\n",
    "    activation1.forward(layer1.output)\n",
    "    a1 = activation1.output\n",
    "    \n",
    "    layer2.forward(activation1.output)\n",
    "    activation2.forward(layer2.output)\n",
    "    logits = activation2.output\n",
    "    \n",
    "    loss_function = Loss_Categoricalcrossentropy()\n",
    "    loss = loss_function.forward(logits,y_label)\n",
    "    y_pred = np.argmax(activation2.output,axis=1)\n",
    "    accuracy = np.mean(y_pred == y)\n",
    "\n",
    "    print(f\"Loss : {loss}, Accuracy:{accuracy*100}\")\n",
    "\n",
    "    w1 = layer1.weights\n",
    "    w2 = layer2.weights\n",
    "    da2 = (logits - y_label)\n",
    "    dw2 = a1.T @ da2\n",
    "    db2 = np.sum(da2,axis=0)\n",
    "    da1 = da2 @ w2.T\n",
    "    dz1 = da1 * (a1 > 0)\n",
    "    dw1 = processed_labeled_data.T @ dz1\n",
    "    db1 = np.sum(dz1,axis=0)\n",
    "\n",
    "    layer1.weights -= learning_rate * dw1\n",
    "    layer2.weights -= learning_rate * dw2\n",
    "\n",
    "\n",
    "    layer1.biases -= learning_rate * db1\n",
    "    layer2.biases -= learning_rate * db2\n",
    "    "
   ]
  },
  {
   "cell_type": "code",
   "execution_count": 82,
   "metadata": {},
   "outputs": [],
   "source": [
    "w1 = layer1.weights\n",
    "w2 = layer2.weights\n",
    "b1 = layer1.biases\n",
    "b2 = layer2.biases"
   ]
  },
  {
   "cell_type": "code",
   "execution_count": 85,
   "metadata": {},
   "outputs": [],
   "source": [
    "weights = {\"w1\" : w1, \"w2\" : w2, \"b1\" : b1, \"b2\" : b2}\n",
    "np.save('resources/weights.npy', weights)\n"
   ]
  }
 ],
 "metadata": {
  "kernelspec": {
   "display_name": "env",
   "language": "python",
   "name": "python3"
  },
  "language_info": {
   "codemirror_mode": {
    "name": "ipython",
    "version": 3
   },
   "file_extension": ".py",
   "mimetype": "text/x-python",
   "name": "python",
   "nbconvert_exporter": "python",
   "pygments_lexer": "ipython3",
   "version": "3.12.4"
  }
 },
 "nbformat": 4,
 "nbformat_minor": 2
}
