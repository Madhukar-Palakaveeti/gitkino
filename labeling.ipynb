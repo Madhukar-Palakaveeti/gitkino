{
 "cells": [
  {
   "cell_type": "code",
   "execution_count": 127,
   "metadata": {},
   "outputs": [],
   "source": [
    "import numpy as np\n",
    "import pandas as pd\n"
   ]
  },
  {
   "cell_type": "code",
   "execution_count": 2,
   "metadata": {},
   "outputs": [],
   "source": [
    "def language_count(garbage):\n",
    "    top_tier_languages = {'Python','C', 'C++', 'JavaScript', 'TypeScript', 'Ruby', 'Rust', 'Lua', 'Assembly', 'Zig'}\n",
    "    return len(set(garbage.replace(' ', '').replace('{', '').replace('}','').replace(\"\\'\", '').split(',')) & top_tier_languages)\n"
   ]
  },
  {
   "cell_type": "markdown",
   "metadata": {},
   "source": [
    "- 5 columns\n",
    "- followesrs(index- 4)\n",
    "- total_stars(index -6)\n",
    "- total_forks(index -7)\n",
    "- repo_count(inddex - 11)\n",
    "- kino_languages_content (generate)"
   ]
  },
  {
   "cell_type": "code",
   "execution_count": 3,
   "metadata": {},
   "outputs": [],
   "source": [
    "labeled_data = pd.read_csv('resources/labeled_data.csv')\n",
    "labeled_data = np.array((labeled_data))\n",
    "np.random.shuffle(labeled_data)\n"
   ]
  },
  {
   "cell_type": "code",
   "execution_count": 4,
   "metadata": {},
   "outputs": [
    {
     "data": {
      "text/plain": [
       "array(['jackboespflug', 'https://api.github.com/users/jackboespflug',\n",
       "       'https://github.com/jackboespflug',\n",
       "       'https://api.github.com/users/jackboespflug/repos', 5,\n",
       "       \"[{'language': 'Shell', 'stars': 1, 'forks': 1, 'watchers': 1}, {'language': None, 'stars': 0, 'forks': 0, 'watchers': 0}, {'language': None, 'stars': 0, 'forks': 0, 'watchers': 0}, {'language': 'Elixir', 'stars': 1, 'forks': 1, 'watchers': 1}, {'language': None, 'stars': 0, 'forks': 0, 'watchers': 0}]\",\n",
       "       2, 2, 2, \"{'Shell', 'Elixir'}\", 1, 5], dtype=object)"
      ]
     },
     "execution_count": 4,
     "metadata": {},
     "output_type": "execute_result"
    }
   ],
   "source": [
    "labeled_data[3]"
   ]
  },
  {
   "cell_type": "code",
   "execution_count": 128,
   "metadata": {},
   "outputs": [
    {
     "data": {
      "text/plain": [
       "(10184, 12)"
      ]
     },
     "execution_count": 128,
     "metadata": {},
     "output_type": "execute_result"
    }
   ],
   "source": [
    "kino_data = [data for data in labeled_data[:] if data[10] == 0]\n",
    "slop_data = [data for data in labeled_data[:] if data[10] == 1][:5000]\n",
    "synth_data = kino_data + slop_data\n",
    "synth_data = np.array(synth_data)\n",
    "synth_data.shape"
   ]
  },
  {
   "cell_type": "code",
   "execution_count": 50,
   "metadata": {},
   "outputs": [],
   "source": [
    "np.random.shuffle(synth_data)"
   ]
  },
  {
   "cell_type": "code",
   "execution_count": 51,
   "metadata": {},
   "outputs": [
    {
     "data": {
      "text/plain": [
       "(10000, 5)"
      ]
     },
     "execution_count": 51,
     "metadata": {},
     "output_type": "execute_result"
    }
   ],
   "source": [
    "data = np.zeros((10000, 5), dtype=int)\n",
    "data[:, :4] = synth_data[:10000, (4,6,7,11)].astype(int)\n",
    "data[:, -1] = np.array([language_count(langs) for langs in labeled_data[:10000, 9]])\n",
    "labels = synth_data[:10000, 10].astype(int)\n",
    "one_hot_labels = np.zeros((len(labels), 2), dtype=int)\n",
    "one_hot_labels[np.arange(len(labels)), labels] = 1\n",
    "data.shape"
   ]
  },
  {
   "cell_type": "code",
   "execution_count": 53,
   "metadata": {},
   "outputs": [
    {
     "data": {
      "text/plain": [
       "5093"
      ]
     },
     "execution_count": 53,
     "metadata": {},
     "output_type": "execute_result"
    }
   ],
   "source": [
    "len([i for i in labels if i==0])"
   ]
  },
  {
   "cell_type": "code",
   "execution_count": 63,
   "metadata": {},
   "outputs": [
    {
     "data": {
      "text/plain": [
       "((8000, 5), (8000, 2))"
      ]
     },
     "execution_count": 63,
     "metadata": {},
     "output_type": "execute_result"
    }
   ],
   "source": [
    "X_train, X_test = data[:8000], data[8000:]\n",
    "y_train_true, y_test_true = labels[:8000], labels[8000:]\n",
    "y_train, y_test =one_hot_labels[:8000],one_hot_labels[8000:]\n",
    "X_train.shape, y_train.shape"
   ]
  },
  {
   "cell_type": "code",
   "execution_count": 92,
   "metadata": {},
   "outputs": [],
   "source": [
    "\n",
    "class Layer_Dense:\n",
    "  def __init__(self,n_inputs,n_neurons):\n",
    "    self.weights = 0.01 * np.random.randn(n_inputs,n_neurons)\n",
    "    self.biases = np.zeros((1,n_neurons))\n",
    "\n",
    "  def forward(self,inputs):\n",
    "    self.output = np.dot(inputs, self.weights)+ self.biases\n",
    "\n",
    "  def parameters(self):\n",
    "    return self.weights\n",
    "\n",
    "\n",
    "class Activation_ReLU:\n",
    "  def forward(self,inputs):\n",
    "    self.output = np.maximum(0,inputs)\n",
    "\n",
    "class Activation_Softmax:\n",
    "  def forward(self,inputs):\n",
    "    exp_values = np.exp(inputs - np.max(inputs,axis=1,keepdims=True))\n",
    "    probabilities = exp_values/np.sum(exp_values,axis=1,keepdims=True)\n",
    "    self.output = probabilities\n",
    "\n",
    "\n",
    "class Loss_Categoricalcrossentropy():\n",
    "  def forward(self, probs, y_true):\n",
    "    samples = len(probs)\n",
    "    probs_clipped = np.clip(probs, 1e-7, 1 - 1e-7)\n",
    "    #negative_log_likelihoods = -np.sum(y_true*np.log(probs_clipped))\n",
    "    #final_loss = np.sum(negative_log_likelihoods)/samples\n",
    "    correct_confidences = np.sum(probs_clipped * y_true, axis=1)\n",
    "    n_l_l = -np.log(correct_confidences)\n",
    "    final_loss = np.mean(n_l_l)\n",
    "    return final_loss\n"
   ]
  },
  {
   "cell_type": "code",
   "execution_count": 119,
   "metadata": {},
   "outputs": [],
   "source": [
    "layer1 = Layer_Dense(5,64)\n",
    "layer2 = Layer_Dense(64,64)\n",
    "layer3 = Layer_Dense(64,2)\n",
    "activation1 = Activation_ReLU()\n",
    "activation2 = Activation_ReLU()\n",
    "activation3 = Activation_Softmax()"
   ]
  },
  {
   "cell_type": "code",
   "execution_count": 124,
   "metadata": {},
   "outputs": [
    {
     "name": "stdout",
     "output_type": "stream",
     "text": [
      "(2000, 64)\n",
      "(2000, 64)\n",
      "(2000, 2)\n"
     ]
    }
   ],
   "source": [
    "layer1.forward(X_test)\n",
    "activation1.forward(layer1.output)\n",
    "a1 = activation1.output\n",
    "print(a1.shape)\n",
    "layer2.forward(activation1.output)\n",
    "activation2.forward(layer2.output)\n",
    "a2 = activation2.output\n",
    "print(a2.shape)\n",
    "layer3.forward(activation2.output)\n",
    "activation3.forward(layer3.output)\n",
    "logits = activation3.output\n",
    "print(logits.shape)"
   ]
  },
  {
   "cell_type": "code",
   "execution_count": 125,
   "metadata": {},
   "outputs": [
    {
     "name": "stdout",
     "output_type": "stream",
     "text": [
      "Loss : 0.019153650529409323\n",
      "Accuracy: 99.4\n"
     ]
    }
   ],
   "source": [
    "loss_function = Loss_Categoricalcrossentropy()\n",
    "loss = loss_function.forward(logits,y_test)\n",
    "print(f\"Loss : {loss}\")\n",
    "\n",
    "y_pred = np.argmax(logits, axis=1)\n",
    "accuracy = np.mean(y_pred == y_test_true)\n",
    "print(f\"Accuracy: {accuracy*100}\")"
   ]
  },
  {
   "cell_type": "code",
   "execution_count": 117,
   "metadata": {},
   "outputs": [],
   "source": [
    "epochs = 100\n",
    "batch_size = 20\n",
    "learning_rate = 0.001"
   ]
  },
  {
   "cell_type": "code",
   "execution_count": 121,
   "metadata": {},
   "outputs": [
    {
     "name": "stdout",
     "output_type": "stream",
     "text": [
      "Epoch 1/100, Loss: 0.0173, Accuracy: 0.9944\n",
      "Epoch 2/100, Loss: 0.0171, Accuracy: 0.9944\n",
      "Epoch 3/100, Loss: 0.0170, Accuracy: 0.9944\n",
      "Epoch 4/100, Loss: 0.0169, Accuracy: 0.9946\n",
      "Epoch 5/100, Loss: 0.0169, Accuracy: 0.9945\n",
      "Epoch 6/100, Loss: 0.0167, Accuracy: 0.9947\n",
      "Epoch 7/100, Loss: 0.0166, Accuracy: 0.9949\n",
      "Epoch 8/100, Loss: 0.0165, Accuracy: 0.9949\n",
      "Epoch 9/100, Loss: 0.0164, Accuracy: 0.9946\n",
      "Epoch 10/100, Loss: 0.0163, Accuracy: 0.9947\n",
      "Epoch 11/100, Loss: 0.0162, Accuracy: 0.9950\n",
      "Epoch 12/100, Loss: 0.0161, Accuracy: 0.9950\n",
      "Epoch 13/100, Loss: 0.0160, Accuracy: 0.9949\n",
      "Epoch 14/100, Loss: 0.0159, Accuracy: 0.9949\n",
      "Epoch 15/100, Loss: 0.0158, Accuracy: 0.9950\n",
      "Epoch 16/100, Loss: 0.0157, Accuracy: 0.9950\n",
      "Epoch 17/100, Loss: 0.0157, Accuracy: 0.9951\n",
      "Epoch 18/100, Loss: 0.0156, Accuracy: 0.9950\n",
      "Epoch 19/100, Loss: 0.0155, Accuracy: 0.9952\n",
      "Epoch 20/100, Loss: 0.0154, Accuracy: 0.9949\n",
      "Epoch 21/100, Loss: 0.0154, Accuracy: 0.9950\n",
      "Epoch 22/100, Loss: 0.0152, Accuracy: 0.9952\n",
      "Epoch 23/100, Loss: 0.0151, Accuracy: 0.9952\n",
      "Epoch 24/100, Loss: 0.0151, Accuracy: 0.9951\n",
      "Epoch 25/100, Loss: 0.0150, Accuracy: 0.9950\n",
      "Epoch 26/100, Loss: 0.0149, Accuracy: 0.9951\n",
      "Epoch 27/100, Loss: 0.0149, Accuracy: 0.9952\n",
      "Epoch 28/100, Loss: 0.0148, Accuracy: 0.9952\n",
      "Epoch 29/100, Loss: 0.0147, Accuracy: 0.9954\n",
      "Epoch 30/100, Loss: 0.0146, Accuracy: 0.9952\n",
      "Epoch 31/100, Loss: 0.0146, Accuracy: 0.9952\n",
      "Epoch 32/100, Loss: 0.0145, Accuracy: 0.9950\n",
      "Epoch 33/100, Loss: 0.0144, Accuracy: 0.9954\n",
      "Epoch 34/100, Loss: 0.0143, Accuracy: 0.9956\n",
      "Epoch 35/100, Loss: 0.0143, Accuracy: 0.9952\n",
      "Epoch 36/100, Loss: 0.0142, Accuracy: 0.9955\n",
      "Epoch 37/100, Loss: 0.0142, Accuracy: 0.9956\n",
      "Epoch 38/100, Loss: 0.0141, Accuracy: 0.9955\n",
      "Epoch 39/100, Loss: 0.0140, Accuracy: 0.9956\n",
      "Epoch 40/100, Loss: 0.0140, Accuracy: 0.9956\n",
      "Epoch 41/100, Loss: 0.0139, Accuracy: 0.9959\n",
      "Epoch 42/100, Loss: 0.0139, Accuracy: 0.9957\n",
      "Epoch 43/100, Loss: 0.0138, Accuracy: 0.9957\n",
      "Epoch 44/100, Loss: 0.0137, Accuracy: 0.9959\n",
      "Epoch 45/100, Loss: 0.0137, Accuracy: 0.9956\n",
      "Epoch 46/100, Loss: 0.0136, Accuracy: 0.9959\n",
      "Epoch 47/100, Loss: 0.0136, Accuracy: 0.9959\n",
      "Epoch 48/100, Loss: 0.0135, Accuracy: 0.9959\n",
      "Epoch 49/100, Loss: 0.0134, Accuracy: 0.9959\n",
      "Epoch 50/100, Loss: 0.0134, Accuracy: 0.9959\n",
      "Epoch 51/100, Loss: 0.0133, Accuracy: 0.9959\n",
      "Epoch 52/100, Loss: 0.0133, Accuracy: 0.9959\n",
      "Epoch 53/100, Loss: 0.0132, Accuracy: 0.9960\n",
      "Epoch 54/100, Loss: 0.0132, Accuracy: 0.9960\n",
      "Epoch 55/100, Loss: 0.0131, Accuracy: 0.9961\n",
      "Epoch 56/100, Loss: 0.0131, Accuracy: 0.9961\n",
      "Epoch 57/100, Loss: 0.0130, Accuracy: 0.9962\n",
      "Epoch 58/100, Loss: 0.0130, Accuracy: 0.9962\n",
      "Epoch 59/100, Loss: 0.0129, Accuracy: 0.9962\n",
      "Epoch 60/100, Loss: 0.0129, Accuracy: 0.9962\n",
      "Epoch 61/100, Loss: 0.0128, Accuracy: 0.9964\n",
      "Epoch 62/100, Loss: 0.0128, Accuracy: 0.9965\n",
      "Epoch 63/100, Loss: 0.0128, Accuracy: 0.9965\n",
      "Epoch 64/100, Loss: 0.0127, Accuracy: 0.9965\n",
      "Epoch 65/100, Loss: 0.0127, Accuracy: 0.9966\n",
      "Epoch 66/100, Loss: 0.0126, Accuracy: 0.9965\n",
      "Epoch 67/100, Loss: 0.0126, Accuracy: 0.9966\n",
      "Epoch 68/100, Loss: 0.0125, Accuracy: 0.9966\n",
      "Epoch 69/100, Loss: 0.0125, Accuracy: 0.9965\n",
      "Epoch 70/100, Loss: 0.0124, Accuracy: 0.9966\n",
      "Epoch 71/100, Loss: 0.0124, Accuracy: 0.9966\n",
      "Epoch 72/100, Loss: 0.0124, Accuracy: 0.9966\n",
      "Epoch 73/100, Loss: 0.0123, Accuracy: 0.9966\n",
      "Epoch 74/100, Loss: 0.0123, Accuracy: 0.9966\n",
      "Epoch 75/100, Loss: 0.0123, Accuracy: 0.9966\n",
      "Epoch 76/100, Loss: 0.0122, Accuracy: 0.9966\n",
      "Epoch 77/100, Loss: 0.0122, Accuracy: 0.9966\n",
      "Epoch 78/100, Loss: 0.0122, Accuracy: 0.9966\n",
      "Epoch 79/100, Loss: 0.0121, Accuracy: 0.9967\n",
      "Epoch 80/100, Loss: 0.0121, Accuracy: 0.9967\n",
      "Epoch 81/100, Loss: 0.0120, Accuracy: 0.9967\n",
      "Epoch 82/100, Loss: 0.0120, Accuracy: 0.9969\n",
      "Epoch 83/100, Loss: 0.0120, Accuracy: 0.9970\n",
      "Epoch 84/100, Loss: 0.0119, Accuracy: 0.9969\n",
      "Epoch 85/100, Loss: 0.0119, Accuracy: 0.9969\n",
      "Epoch 86/100, Loss: 0.0119, Accuracy: 0.9970\n",
      "Epoch 87/100, Loss: 0.0119, Accuracy: 0.9969\n",
      "Epoch 88/100, Loss: 0.0118, Accuracy: 0.9970\n",
      "Epoch 89/100, Loss: 0.0118, Accuracy: 0.9970\n",
      "Epoch 90/100, Loss: 0.0118, Accuracy: 0.9970\n",
      "Epoch 91/100, Loss: 0.0117, Accuracy: 0.9970\n",
      "Epoch 92/100, Loss: 0.0117, Accuracy: 0.9970\n",
      "Epoch 93/100, Loss: 0.0117, Accuracy: 0.9970\n",
      "Epoch 94/100, Loss: 0.0116, Accuracy: 0.9970\n",
      "Epoch 95/100, Loss: 0.0116, Accuracy: 0.9970\n",
      "Epoch 96/100, Loss: 0.0116, Accuracy: 0.9971\n",
      "Epoch 97/100, Loss: 0.0115, Accuracy: 0.9971\n",
      "Epoch 98/100, Loss: 0.0115, Accuracy: 0.9974\n",
      "Epoch 99/100, Loss: 0.0115, Accuracy: 0.9974\n",
      "Epoch 100/100, Loss: 0.0114, Accuracy: 0.9974\n"
     ]
    }
   ],
   "source": [
    "losses = []\n",
    "accuracies = []\n",
    "\n",
    "for epoch in range(epochs):\n",
    "    epoch_loss = 0\n",
    "    epoch_accuracy = 0\n",
    "    for i in range(0,len(X_train),batch_size):\n",
    "        X_batch = X_train[i:i+batch_size]\n",
    "        y_batch = y_train_true[i:i+batch_size]\n",
    "        y_true_batch = y_train[i:i+batch_size]\n",
    "\n",
    "        layer1.forward(X_batch)\n",
    "        activation1.forward(layer1.output)\n",
    "        a1 = activation1.output\n",
    "\n",
    "        layer2.forward(activation1.output)\n",
    "        activation2.forward(layer2.output)\n",
    "        a2 = activation2.output\n",
    "\n",
    "        layer3.forward(activation2.output)\n",
    "        activation3.forward(layer3.output)\n",
    "        logits = activation3.output\n",
    "        loss = loss_function.forward(logits,y_true_batch)\n",
    "        epoch_loss += loss\n",
    "\n",
    "\n",
    "        y_pred = np.argmax(activation3.output,axis=1)\n",
    "        accuracy = np.mean(y_pred == y_batch)\n",
    "        epoch_accuracy += accuracy\n",
    "\n",
    "        d_loss = activation3.output - y_true_batch\n",
    "        d_layer3 = d_loss\n",
    "        d_layer2 = np.dot(d_layer3, layer3.weights.T) * (activation2.output > 0)\n",
    "        d_layer1 = np.dot(d_layer2, layer2.weights.T) * (activation1.output > 0)\n",
    "\n",
    "        # Update weights and biases\n",
    "        layer3.weights -= learning_rate * np.dot(activation2.output.T, d_layer3)\n",
    "        layer3.biases -= learning_rate * np.sum(d_layer3, axis=0, keepdims=True)\n",
    "        layer2.weights -= learning_rate * np.dot(activation1.output.T, d_layer2)\n",
    "        layer2.biases -= learning_rate * np.sum(d_layer2, axis=0, keepdims=True)\n",
    "        layer1.weights -= learning_rate * np.dot(X_batch.T, d_layer1)\n",
    "        layer1.biases -= learning_rate * np.sum(d_layer1, axis=0, keepdims=True)\n",
    "\n",
    "    epoch_loss /= len(X_train) / batch_size\n",
    "    epoch_accuracy /= len(X_train) / batch_size\n",
    "    losses.append(epoch_loss)\n",
    "    accuracies.append(epoch_accuracy)\n",
    "\n",
    "    print(f\"Epoch {epoch+1}/{epochs}, Loss: {epoch_loss:.4f}, Accuracy: {epoch_accuracy:.4f}\")\n",
    "    learning_rate*= 0.99"
   ]
  },
  {
   "cell_type": "code",
   "execution_count": 126,
   "metadata": {},
   "outputs": [],
   "source": [
    "w1 = layer1.weights\n",
    "w2 = layer2.weights\n",
    "w3 = layer3.weights\n",
    "b1 = layer1.biases\n",
    "b2 = layer2.biases\n",
    "b3 = layer3.biases\n",
    "weights = {\"w1\" : w1, \"w2\" : w2, \"w3\" : w3, \"b1\" : b1, \"b2\" : b2, \"b3\" : b3}\n",
    "np.save('resources/final_weights.npy', weights)"
   ]
  }
 ],
 "metadata": {
  "kernelspec": {
   "display_name": "env",
   "language": "python",
   "name": "python3"
  },
  "language_info": {
   "codemirror_mode": {
    "name": "ipython",
    "version": 3
   },
   "file_extension": ".py",
   "mimetype": "text/x-python",
   "name": "python",
   "nbconvert_exporter": "python",
   "pygments_lexer": "ipython3",
   "version": "3.12.4"
  }
 },
 "nbformat": 4,
 "nbformat_minor": 2
}
