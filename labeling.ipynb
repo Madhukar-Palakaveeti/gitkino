{
 "cells": [
  {
   "cell_type": "code",
   "execution_count": 2,
   "metadata": {},
   "outputs": [],
   "source": [
    "import numpy as np\n",
    "import pandas as pd\n",
    "from sklearn.preprocessing import StandardScaler"
   ]
  },
  {
   "cell_type": "code",
   "execution_count": 3,
   "metadata": {},
   "outputs": [],
   "source": [
    "def language_count(garbage):\n",
    "    top_tier_languages = {'Python','C', 'C++', 'JavaScript', 'TypeScript', 'Ruby', 'Rust', 'Lua', 'Assembly', 'Zig'}\n",
    "    return len(set(garbage.replace(' ', '').replace('{', '').replace('}','').replace(\"\\'\", '').split(',')) & top_tier_languages)\n"
   ]
  },
  {
   "cell_type": "code",
   "execution_count": 4,
   "metadata": {},
   "outputs": [
    {
     "name": "stdout",
     "output_type": "stream",
     "text": [
      "(15000, 12)\n"
     ]
    }
   ],
   "source": [
    "unlabeled_data =  pd.read_csv('resources/labeled_data.csv')\n",
    "unlabeled_data = np.array(unlabeled_data)[:15000]\n",
    "print(unlabeled_data.shape)"
   ]
  },
  {
   "cell_type": "code",
   "execution_count": 29,
   "metadata": {},
   "outputs": [
    {
     "data": {
      "text/plain": [
       "array([0, 0, 0, ..., 0, 0, 0])"
      ]
     },
     "execution_count": 29,
     "metadata": {},
     "output_type": "execute_result"
    }
   ],
   "source": [
    "processed_unlabeled_data = np.zeros((15000, 6), dtype=int)\n",
    "processed_unlabeled_data[:, :4] = unlabeled_data[:, (4,6,7,11)].astype(int)\n",
    "processed_unlabeled_data[:, -2] = np.array([language_count(langs) for langs in unlabeled_data[:, 9]])\n",
    "processed_unlabeled_data[:, -1]"
   ]
  },
  {
   "cell_type": "code",
   "execution_count": 42,
   "metadata": {},
   "outputs": [
    {
     "data": {
      "text/plain": [
       "(7000, 5)"
      ]
     },
     "execution_count": 42,
     "metadata": {},
     "output_type": "execute_result"
    }
   ],
   "source": [
    "# First batch\n",
    "scaler = StandardScaler() \n",
    "first_batch = scaler.fit_transform(processed_unlabeled_data[:8000, :5])\n",
    "first_batch.shape\n",
    "\n",
    "# Second batch\n",
    "second_batch = scaler.fit_transform(processed_unlabeled_data[8000:, :5])\n",
    "second_batch.shape\n"
   ]
  },
  {
   "cell_type": "code",
   "execution_count": 8,
   "metadata": {},
   "outputs": [],
   "source": [
    "# @title Neural Network\n",
    "class Layer_Dense:\n",
    "  def __init__(self,n_inputs,n_neurons):\n",
    "    self.weights = 0.01 * np.random.randn(n_inputs,n_neurons)\n",
    "    self.biases = np.zeros((1,n_neurons))\n",
    "\n",
    "  def forward(self,inputs):\n",
    "    self.output = np.dot(inputs, self.weights)+ self.biases\n",
    "\n",
    "  def parameters(self):\n",
    "    return self.weights\n",
    "\n",
    "class Activation_ReLU:\n",
    "  def forward(self,inputs):\n",
    "    self.output = np.maximum(0,inputs)\n",
    "\n",
    "class Activation_Softmax:\n",
    "  def forward(self,inputs):\n",
    "    exp_values = np.exp(inputs - np.max(inputs,axis=1,keepdims=True))\n",
    "    probabilities = exp_values/np.sum(exp_values,axis=1,keepdims=True)\n",
    "    self.output = probabilities\n",
    "\n",
    "\n",
    "class Loss_Categoricalcrossentropy():\n",
    "  def forward(self, probs, y_true):\n",
    "    samples = len(probs)\n",
    "    probs_clipped = np.clip(probs, 1e-7, 1 - 1e-7)\n",
    "    #negative_log_likelihoods = -np.sum(y_true*np.log(probs_clipped))\n",
    "    #final_loss = np.sum(negative_log_likelihoods)/samples\n",
    "    correct_confidences = np.sum(probs_clipped * y_true, axis=1)\n",
    "    n_l_l = -np.log(correct_confidences)\n",
    "    final_loss = np.mean(n_l_l)\n",
    "    return final_loss\n"
   ]
  },
  {
   "cell_type": "code",
   "execution_count": 17,
   "metadata": {},
   "outputs": [],
   "source": [
    "layer1 = Layer_Dense(5,32)\n",
    "layer2 = Layer_Dense(32,2)\n",
    "activation1 = Activation_ReLU()\n",
    "activation2 = Activation_Softmax()"
   ]
  },
  {
   "cell_type": "code",
   "execution_count": 18,
   "metadata": {},
   "outputs": [],
   "source": [
    "weights = np.load('resources/weights.npy', allow_pickle=True)\n",
    "layer1.weights = weights.item().get('w1')\n",
    "layer2.weights = weights.item().get('w2')\n",
    "\n",
    "layer1.biases = weights.item().get('b1')\n",
    "layer2.biases = weights.item().get('b2')\n"
   ]
  },
  {
   "cell_type": "code",
   "execution_count": 43,
   "metadata": {},
   "outputs": [
    {
     "name": "stdout",
     "output_type": "stream",
     "text": [
      "(7000, 32)\n",
      "(7000, 2)\n"
     ]
    }
   ],
   "source": [
    "layer1.forward(second_batch)\n",
    "activation1.forward(layer1.output)\n",
    "a1 = activation1.output\n",
    "print(a1.shape)\n",
    "layer2.forward(activation1.output)\n",
    "activation2.forward(layer2.output)\n",
    "logits = activation2.output\n",
    "print(logits.shape)"
   ]
  },
  {
   "cell_type": "code",
   "execution_count": 44,
   "metadata": {},
   "outputs": [],
   "source": [
    "y_pred = np.argmax(activation2.output,axis=1)\n",
    "processed_unlabeled_data[8000:, -1] = y_pred"
   ]
  },
  {
   "cell_type": "code",
   "execution_count": 48,
   "metadata": {},
   "outputs": [],
   "source": [
    "processed_unlabeled_data[:, -1]\n",
    "X = processed_unlabeled_data[:, :]\n",
    "X.shape\n",
    "np.save('resources/nninput.npy', X)"
   ]
  }
 ],
 "metadata": {
  "kernelspec": {
   "display_name": "env",
   "language": "python",
   "name": "python3"
  },
  "language_info": {
   "codemirror_mode": {
    "name": "ipython",
    "version": 3
   },
   "file_extension": ".py",
   "mimetype": "text/x-python",
   "name": "python",
   "nbconvert_exporter": "python",
   "pygments_lexer": "ipython3",
   "version": "3.12.4"
  }
 },
 "nbformat": 4,
 "nbformat_minor": 2
}
