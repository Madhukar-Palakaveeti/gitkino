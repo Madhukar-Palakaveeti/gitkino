{
 "cells": [
  {
   "cell_type": "code",
   "execution_count": 4,
   "metadata": {},
   "outputs": [],
   "source": [
    "import pandas as pd\n",
    "import json"
   ]
  },
  {
   "cell_type": "code",
   "execution_count": 3,
   "metadata": {},
   "outputs": [
    {
     "data": {
      "text/html": [
       "<div>\n",
       "<style scoped>\n",
       "    .dataframe tbody tr th:only-of-type {\n",
       "        vertical-align: middle;\n",
       "    }\n",
       "\n",
       "    .dataframe tbody tr th {\n",
       "        vertical-align: top;\n",
       "    }\n",
       "\n",
       "    .dataframe thead th {\n",
       "        text-align: right;\n",
       "    }\n",
       "</style>\n",
       "<table border=\"1\" class=\"dataframe\">\n",
       "  <thead>\n",
       "    <tr style=\"text-align: right;\">\n",
       "      <th></th>\n",
       "      <th>data</th>\n",
       "    </tr>\n",
       "  </thead>\n",
       "  <tbody>\n",
       "    <tr>\n",
       "      <th>0</th>\n",
       "      <td>{'login': 'rwdeploy', 'user_url': 'https://api...</td>\n",
       "    </tr>\n",
       "    <tr>\n",
       "      <th>1</th>\n",
       "      <td>{'login': 'stiff', 'user_url': 'https://api.gi...</td>\n",
       "    </tr>\n",
       "    <tr>\n",
       "      <th>2</th>\n",
       "      <td>{'login': 'jadonk', 'user_url': 'https://api.g...</td>\n",
       "    </tr>\n",
       "    <tr>\n",
       "      <th>3</th>\n",
       "      <td>{'login': 'intervisionsoftware', 'user_url': '...</td>\n",
       "    </tr>\n",
       "    <tr>\n",
       "      <th>4</th>\n",
       "      <td>{'login': 'danBerman', 'user_url': 'https://ap...</td>\n",
       "    </tr>\n",
       "    <tr>\n",
       "      <th>...</th>\n",
       "      <td>...</td>\n",
       "    </tr>\n",
       "    <tr>\n",
       "      <th>2494</th>\n",
       "      <td>{'login': 'carstenroselundberg', 'user_url': '...</td>\n",
       "    </tr>\n",
       "    <tr>\n",
       "      <th>2495</th>\n",
       "      <td>{'login': 'PiTiLeZarD', 'user_url': 'https://a...</td>\n",
       "    </tr>\n",
       "    <tr>\n",
       "      <th>2496</th>\n",
       "      <td>{'login': 'rogovskiy', 'user_url': 'https://ap...</td>\n",
       "    </tr>\n",
       "    <tr>\n",
       "      <th>2497</th>\n",
       "      <td>{'login': 'Hendrik', 'user_url': 'https://api....</td>\n",
       "    </tr>\n",
       "    <tr>\n",
       "      <th>2498</th>\n",
       "      <td>{'login': 'tklaudel', 'user_url': 'https://api...</td>\n",
       "    </tr>\n",
       "  </tbody>\n",
       "</table>\n",
       "<p>2499 rows × 1 columns</p>\n",
       "</div>"
      ],
      "text/plain": [
       "                                                   data\n",
       "0     {'login': 'rwdeploy', 'user_url': 'https://api...\n",
       "1     {'login': 'stiff', 'user_url': 'https://api.gi...\n",
       "2     {'login': 'jadonk', 'user_url': 'https://api.g...\n",
       "3     {'login': 'intervisionsoftware', 'user_url': '...\n",
       "4     {'login': 'danBerman', 'user_url': 'https://ap...\n",
       "...                                                 ...\n",
       "2494  {'login': 'carstenroselundberg', 'user_url': '...\n",
       "2495  {'login': 'PiTiLeZarD', 'user_url': 'https://a...\n",
       "2496  {'login': 'rogovskiy', 'user_url': 'https://ap...\n",
       "2497  {'login': 'Hendrik', 'user_url': 'https://api....\n",
       "2498  {'login': 'tklaudel', 'user_url': 'https://api...\n",
       "\n",
       "[2499 rows x 1 columns]"
      ]
     },
     "execution_count": 3,
     "metadata": {},
     "output_type": "execute_result"
    }
   ],
   "source": [
    "df = pd.read_json('resources/dataset.json')\n",
    "df"
   ]
  },
  {
   "cell_type": "code",
   "execution_count": 7,
   "metadata": {},
   "outputs": [
    {
     "data": {
      "text/plain": [
       "{'login': 'stiff',\n",
       " 'user_url': 'https://api.github.com/users/stiff',\n",
       " 'html_url': 'https://github.com/stiff',\n",
       " 'repos_url': 'https://api.github.com/users/stiff/repos',\n",
       " 'followers': 14,\n",
       " 'language': 'Ruby',\n",
       " 'stars': 64,\n",
       " 'forks': 16,\n",
       " 'watchers': 64}"
      ]
     },
     "execution_count": 7,
     "metadata": {},
     "output_type": "execute_result"
    }
   ],
   "source": [
    "with open('resources/dataset.json' , 'r') as f:\n",
    "    d = json.load(f)\n",
    "data = d['data']\n",
    "processed_data = []\n",
    "for user in data:\n",
    "    for repo in user[\"repo_details\"]:\n",
    "        processed_data.append({\n",
    "            \"login\": user[\"login\"],\n",
    "            \"user_url\": user[\"user_url\"],\n",
    "            \"html_url\": user[\"html_url\"],\n",
    "            \"repos_url\": user[\"repos_url\"],\n",
    "            \"followers\": user[\"followers\"],\n",
    "            \"language\": repo[\"language\"],\n",
    "            \"stars\": repo[\"stars\"],\n",
    "            \"forks\": repo[\"forks\"],\n",
    "            \"watchers\": repo[\"watchers\"]\n",
    "        })\n",
    "\n",
    "processed_data[2]"
   ]
  },
  {
   "cell_type": "code",
   "execution_count": 9,
   "metadata": {},
   "outputs": [
    {
     "data": {
      "text/plain": [
       "18150"
      ]
     },
     "execution_count": 9,
     "metadata": {},
     "output_type": "execute_result"
    }
   ],
   "source": [
    "with open('resources/user_urls.json' , 'r') as f:\n",
    "    ob = json.load(f)\n",
    "urls = ob['urls']\n",
    "len(urls)"
   ]
  },
  {
   "cell_type": "code",
   "execution_count": 11,
   "metadata": {},
   "outputs": [],
   "source": [
    "df = pd.DataFrame(data)\n",
    "df.to_csv('dataset.csv', header=True, index=False)"
   ]
  }
 ],
 "metadata": {
  "kernelspec": {
   "display_name": "env",
   "language": "python",
   "name": "python3"
  },
  "language_info": {
   "codemirror_mode": {
    "name": "ipython",
    "version": 3
   },
   "file_extension": ".py",
   "mimetype": "text/x-python",
   "name": "python",
   "nbconvert_exporter": "python",
   "pygments_lexer": "ipython3",
   "version": "3.12.4"
  }
 },
 "nbformat": 4,
 "nbformat_minor": 2
}
