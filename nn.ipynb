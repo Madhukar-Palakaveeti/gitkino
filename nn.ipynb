{
 "cells": [
  {
   "cell_type": "markdown",
   "metadata": {},
   "source": [
    "# Imports"
   ]
  },
  {
   "cell_type": "code",
   "execution_count": 6,
   "metadata": {},
   "outputs": [],
   "source": [
    "import numpy as np\n",
    "import pandas as pd"
   ]
  },
  {
   "cell_type": "markdown",
   "metadata": {},
   "source": [
    "# Dataset"
   ]
  },
  {
   "cell_type": "code",
   "execution_count": 94,
   "metadata": {},
   "outputs": [
    {
     "name": "stdout",
     "output_type": "stream",
     "text": [
      "['stiff' 'https://api.github.com/users/stiff' 'https://github.com/stiff'\n",
      " 'https://api.github.com/users/stiff/repos' 14 84 21 84\n",
      " \"{'Python', 'CoffeeScript', 'Ruby', 'JavaScript'}\" 21 0]\n"
     ]
    }
   ],
   "source": [
    "small_labeled_data = pd.read_csv('resources/req_dataset.csv')\n",
    "small_labeled_data = np.array(small_labeled_data)\n",
    "print(small_labeled_data[0])"
   ]
  },
  {
   "cell_type": "markdown",
   "metadata": {},
   "source": [
    "# Data Processing\n",
    "- Get the relevant columns i.e., (4,6,7,9,11)"
   ]
  },
  {
   "cell_type": "code",
   "execution_count": 202,
   "metadata": {},
   "outputs": [
    {
     "data": {
      "text/plain": [
       "dtype('int64')"
      ]
     },
     "execution_count": 202,
     "metadata": {},
     "output_type": "execute_result"
    }
   ],
   "source": [
    "processed_labeled_data = np.zeros((3000, 5), dtype=int)\n",
    "y = small_labeled_data[:, -1].astype(np.int64)\n",
    "y.dtype"
   ]
  },
  {
   "cell_type": "code",
   "execution_count": 167,
   "metadata": {},
   "outputs": [
    {
     "data": {
      "text/plain": [
       "array([172,  78,  19,  30,   0])"
      ]
     },
     "execution_count": 167,
     "metadata": {},
     "output_type": "execute_result"
    }
   ],
   "source": [
    "\n",
    "processed_labeled_data[:, :4] = small_labeled_data[:, (4,5,6,9)].astype(int)\n",
    "processed_labeled_data[:][200]"
   ]
  },
  {
   "cell_type": "code",
   "execution_count": 177,
   "metadata": {},
   "outputs": [],
   "source": [
    "def language_count(garbage):\n",
    "    top_tier_languages = {'Python','C', 'C++', 'JavaScript', 'TypeScript', 'Ruby', 'Rust', 'Lua', 'Assembly', 'Zig'}\n",
    "    return len(set(garbage.replace(' ', '').replace('{', '').replace('}','').replace(\"\\'\", '').split(',')) & top_tier_languages)\n"
   ]
  },
  {
   "cell_type": "code",
   "execution_count": 194,
   "metadata": {},
   "outputs": [
    {
     "data": {
      "text/plain": [
       "(3000,)"
      ]
     },
     "execution_count": 194,
     "metadata": {},
     "output_type": "execute_result"
    }
   ],
   "source": [
    "processed_labeled_data[:, -1] = np.array([language_count(langs) for langs in small_labeled_data[:, 8]])\n",
    "processed_labeled_data.shape\n",
    "y.shape\n"
   ]
  },
  {
   "cell_type": "code",
   "execution_count": 205,
   "metadata": {},
   "outputs": [
    {
     "data": {
      "text/plain": [
       "(3000, 2)"
      ]
     },
     "execution_count": 205,
     "metadata": {},
     "output_type": "execute_result"
    }
   ],
   "source": [
    "y_label = np.zeros((len(y), len(np.unique(y))), dtype=np.int64)\n",
    "y_label[np.arange(len(y)), y] = 1\n",
    "y_label.shape\n"
   ]
  },
  {
   "cell_type": "markdown",
   "metadata": {},
   "source": [
    "# Neural network\n"
   ]
  },
  {
   "cell_type": "code",
   "execution_count": 206,
   "metadata": {},
   "outputs": [],
   "source": [
    "# @title Neural Network\n",
    "class Layer_Dense:\n",
    "  def __init__(self,n_inputs,n_neurons):\n",
    "    self.weights = 0.01 * np.random.randn(n_inputs,n_neurons)\n",
    "    self.biases = np.zeros((1,n_neurons))\n",
    "\n",
    "  def forward(self,inputs):\n",
    "    self.output = np.dot(inputs, self.weights)+ self.biases\n",
    "\n",
    "  def parameters(self):\n",
    "    return self.weights\n",
    "\n",
    "class Activation_ReLU:\n",
    "  def forward(self,inputs):\n",
    "    self.output = np.maximum(0,inputs)\n",
    "\n",
    "class Activation_Softmax:\n",
    "  def forward(self,inputs):\n",
    "    exp_values = np.exp(inputs - np.max(inputs,axis=1,keepdims=True))\n",
    "    probabilities = exp_values/np.sum(exp_values,axis=1,keepdims=True)\n",
    "    self.output = probabilities\n",
    "\n",
    "\n",
    "class Loss_Categoricalcrossentropy():\n",
    "  def forward(self, probs, y_true):\n",
    "    samples = len(probs)\n",
    "    probs_clipped = np.clip(probs, 1e-7, 1 - 1e-7)\n",
    "    #negative_log_likelihoods = -np.sum(y_true*np.log(probs_clipped))\n",
    "    #final_loss = np.sum(negative_log_likelihoods)/samples\n",
    "    correct_confidences = np.sum(probs_clipped * y_true, axis=1)\n",
    "    n_l_l = -np.log(correct_confidences)\n",
    "    final_loss = np.mean(n_l_l)\n",
    "    return final_loss\n"
   ]
  },
  {
   "cell_type": "markdown",
   "metadata": {},
   "source": [
    "# Creating the layers and activations"
   ]
  },
  {
   "cell_type": "code",
   "execution_count": 210,
   "metadata": {},
   "outputs": [],
   "source": [
    "layer1 = Layer_Dense(5,128)\n",
    "layer2 = Layer_Dense(128,64)\n",
    "layer3 = Layer_Dense(64,2)\n",
    "activation1 = Activation_ReLU()\n",
    "activation2 = Activation_ReLU()\n",
    "activation3 = Activation_Softmax()"
   ]
  },
  {
   "cell_type": "markdown",
   "metadata": {},
   "source": [
    "# Forward pass"
   ]
  },
  {
   "cell_type": "code",
   "execution_count": 253,
   "metadata": {},
   "outputs": [
    {
     "name": "stdout",
     "output_type": "stream",
     "text": [
      "(3000, 128)\n",
      "(3000, 64)\n",
      "(3000, 2)\n"
     ]
    }
   ],
   "source": [
    "layer1.forward(processed_labeled_data)\n",
    "activation1.forward(layer1.output)\n",
    "a1 = activation1.output\n",
    "print(a1.shape)\n",
    "layer2.forward(activation1.output)\n",
    "activation2.forward(layer2.output)\n",
    "a2 = activation2.output\n",
    "print(a2.shape)\n",
    "layer3.forward(activation2.output)\n",
    "activation3.forward(layer3.output)\n",
    "logits = activation3.output\n",
    "print(logits.shape)"
   ]
  },
  {
   "cell_type": "markdown",
   "metadata": {},
   "source": [
    "# Loss"
   ]
  },
  {
   "cell_type": "code",
   "execution_count": 254,
   "metadata": {},
   "outputs": [
    {
     "name": "stdout",
     "output_type": "stream",
     "text": [
      "Loss : 0.6777665437441145\n",
      "Accuracy:59.599999999999994\n"
     ]
    }
   ],
   "source": [
    "loss_function = Loss_Categoricalcrossentropy()\n",
    "loss = loss_function.forward(logits,y_label)\n",
    "print(f\"Loss : {loss}\")\n",
    "\n",
    "y_pred = np.argmax(activation3.output,axis=1)\n",
    "accuracy = np.mean(y_pred == y)\n",
    "\n",
    "print(f\"Accuracy:{accuracy*100}\")"
   ]
  },
  {
   "cell_type": "markdown",
   "metadata": {},
   "source": [
    "# Backward pass"
   ]
  },
  {
   "cell_type": "code",
   "execution_count": 218,
   "metadata": {},
   "outputs": [],
   "source": [
    "w1 = layer1.weights\n",
    "w2 = layer2.weights\n",
    "w3 = layer3.weights\n",
    "dw3 = a2.T @ (logits - y_label)\n",
    "db3 = np.sum((logits - y_label),axis=0)\n",
    "da2 = (logits - y_label) @ w3.T\n",
    "dz2 = da2 * (a2 > 0)\n",
    "dw2 = a1.T @ dz2\n",
    "db2 = np.sum(dz2,axis=0)\n",
    "da1 = dz2 @ w2.T\n",
    "dz1 = da1 * (a1 > 0)\n",
    "dw1 = processed_labeled_data.T @ dz1\n",
    "db1 = np.sum(dz1,axis=0)"
   ]
  },
  {
   "cell_type": "markdown",
   "metadata": {},
   "source": [
    "# Gradient descent"
   ]
  },
  {
   "cell_type": "code",
   "execution_count": 252,
   "metadata": {},
   "outputs": [],
   "source": [
    "\n",
    "learning_rate = 0.001\n",
    "layer1.weights -= learning_rate * dw1\n",
    "layer2.weights -= learning_rate * dw2\n",
    "layer3.weights -= learning_rate * dw3\n",
    "layer1.biases -= learning_rate * db1\n",
    "layer2.biases -= learning_rate * db2\n",
    "layer3.biases -= learning_rate * db3"
   ]
  },
  {
   "cell_type": "markdown",
   "metadata": {},
   "source": [
    "# Training loop"
   ]
  }
 ],
 "metadata": {
  "kernelspec": {
   "display_name": "env",
   "language": "python",
   "name": "python3"
  },
  "language_info": {
   "codemirror_mode": {
    "name": "ipython",
    "version": 3
   },
   "file_extension": ".py",
   "mimetype": "text/x-python",
   "name": "python",
   "nbconvert_exporter": "python",
   "pygments_lexer": "ipython3",
   "version": "3.12.4"
  }
 },
 "nbformat": 4,
 "nbformat_minor": 2
}
