{
 "cells": [
  {
   "cell_type": "markdown",
   "metadata": {},
   "source": [
    "# Imports"
   ]
  },
  {
   "cell_type": "code",
   "execution_count": 6,
   "metadata": {},
   "outputs": [],
   "source": [
    "import numpy as np\n",
    "import pandas as pd"
   ]
  },
  {
   "cell_type": "markdown",
   "metadata": {},
   "source": [
    "# Dataset"
   ]
  },
  {
   "cell_type": "code",
   "execution_count": 94,
   "metadata": {},
   "outputs": [
    {
     "name": "stdout",
     "output_type": "stream",
     "text": [
      "['stiff' 'https://api.github.com/users/stiff' 'https://github.com/stiff'\n",
      " 'https://api.github.com/users/stiff/repos' 14 84 21 84\n",
      " \"{'Python', 'CoffeeScript', 'Ruby', 'JavaScript'}\" 21 0]\n"
     ]
    }
   ],
   "source": [
    "small_labeled_data = pd.read_csv('resources/req_dataset.csv')\n",
    "small_labeled_data = np.array(small_labeled_data)\n",
    "print(small_labeled_data[0])"
   ]
  },
  {
   "cell_type": "markdown",
   "metadata": {},
   "source": [
    "# Data Processing\n",
    "- Get the relevant columns i.e., (4,6,7,9,11)"
   ]
  },
  {
   "cell_type": "code",
   "execution_count": 202,
   "metadata": {},
   "outputs": [
    {
     "data": {
      "text/plain": [
       "dtype('int64')"
      ]
     },
     "execution_count": 202,
     "metadata": {},
     "output_type": "execute_result"
    }
   ],
   "source": [
    "processed_labeled_data = np.zeros((3000, 5), dtype=int)\n",
    "y = small_labeled_data[:, -1].astype(np.int64)\n",
    "y.dtype"
   ]
  },
  {
   "cell_type": "code",
   "execution_count": 167,
   "metadata": {},
   "outputs": [
    {
     "data": {
      "text/plain": [
       "array([172,  78,  19,  30,   0])"
      ]
     },
     "execution_count": 167,
     "metadata": {},
     "output_type": "execute_result"
    }
   ],
   "source": [
    "\n",
    "processed_labeled_data[:, :4] = small_labeled_data[:, (4,5,6,9)].astype(int)\n",
    "processed_labeled_data[:][200]"
   ]
  },
  {
   "cell_type": "code",
   "execution_count": 177,
   "metadata": {},
   "outputs": [],
   "source": [
    "def language_count(garbage):\n",
    "    top_tier_languages = {'Python','C', 'C++', 'JavaScript', 'TypeScript', 'Ruby', 'Rust', 'Lua', 'Assembly', 'Zig'}\n",
    "    return len(set(garbage.replace(' ', '').replace('{', '').replace('}','').replace(\"\\'\", '').split(',')) & top_tier_languages)\n"
   ]
  },
  {
   "cell_type": "code",
   "execution_count": 194,
   "metadata": {},
   "outputs": [
    {
     "data": {
      "text/plain": [
       "(3000,)"
      ]
     },
     "execution_count": 194,
     "metadata": {},
     "output_type": "execute_result"
    }
   ],
   "source": [
    "processed_labeled_data[:, -1] = np.array([language_count(langs) for langs in small_labeled_data[:, 8]])\n",
    "processed_labeled_data.shape\n",
    "y.shape\n"
   ]
  },
  {
   "cell_type": "code",
   "execution_count": 205,
   "metadata": {},
   "outputs": [
    {
     "data": {
      "text/plain": [
       "(3000, 2)"
      ]
     },
     "execution_count": 205,
     "metadata": {},
     "output_type": "execute_result"
    }
   ],
   "source": [
    "y_label = np.zeros((len(y), len(np.unique(y))), dtype=np.int64)\n",
    "y_label[np.arange(len(y)), y] = 1\n",
    "y_label.shape\n"
   ]
  },
  {
   "cell_type": "markdown",
   "metadata": {},
   "source": [
    "# Neural network\n"
   ]
  },
  {
   "cell_type": "code",
   "execution_count": 206,
   "metadata": {},
   "outputs": [],
   "source": [
    "# @title Neural Network\n",
    "class Layer_Dense:\n",
    "  def __init__(self,n_inputs,n_neurons):\n",
    "    self.weights = 0.01 * np.random.randn(n_inputs,n_neurons)\n",
    "    self.biases = np.zeros((1,n_neurons))\n",
    "\n",
    "  def forward(self,inputs):\n",
    "    self.output = np.dot(inputs, self.weights)+ self.biases\n",
    "\n",
    "  def parameters(self):\n",
    "    return self.weights\n",
    "\n",
    "class Activation_ReLU:\n",
    "  def forward(self,inputs):\n",
    "    self.output = np.maximum(0,inputs)\n",
    "\n",
    "class Activation_Softmax:\n",
    "  def forward(self,inputs):\n",
    "    exp_values = np.exp(inputs - np.max(inputs,axis=1,keepdims=True))\n",
    "    probabilities = exp_values/np.sum(exp_values,axis=1,keepdims=True)\n",
    "    self.output = probabilities\n",
    "\n",
    "\n",
    "class Loss_Categoricalcrossentropy():\n",
    "  def forward(self, probs, y_true):\n",
    "    samples = len(probs)\n",
    "    probs_clipped = np.clip(probs, 1e-7, 1 - 1e-7)\n",
    "    #negative_log_likelihoods = -np.sum(y_true*np.log(probs_clipped))\n",
    "    #final_loss = np.sum(negative_log_likelihoods)/samples\n",
    "    correct_confidences = np.sum(probs_clipped * y_true, axis=1)\n",
    "    n_l_l = -np.log(correct_confidences)\n",
    "    final_loss = np.mean(n_l_l)\n",
    "    return final_loss\n"
   ]
  },
  {
   "cell_type": "markdown",
   "metadata": {},
   "source": [
    "# Creating the layers and activations"
   ]
  },
  {
   "cell_type": "code",
   "execution_count": 210,
   "metadata": {},
   "outputs": [],
   "source": [
    "layer1 = Layer_Dense(5,128)\n",
    "layer2 = Layer_Dense(128,64)\n",
    "layer3 = Layer_Dense(64,2)\n",
    "activation1 = Activation_ReLU()\n",
    "activation2 = Activation_ReLU()\n",
    "activation3 = Activation_Softmax()"
   ]
  },
  {
   "cell_type": "markdown",
   "metadata": {},
   "source": [
    "# Forward pass"
   ]
  },
  {
   "cell_type": "code",
   "execution_count": 220,
   "metadata": {},
   "outputs": [
    {
     "name": "stdout",
     "output_type": "stream",
     "text": [
      "(3000, 128)\n",
      "(3000, 64)\n",
      "(3000, 2)\n"
     ]
    }
   ],
   "source": [
    "layer1.forward(processed_labeled_data)\n",
    "activation1.forward(layer1.output)\n",
    "a1 = activation1.output\n",
    "print(a1.shape)\n",
    "layer2.forward(activation1.output)\n",
    "activation2.forward(layer2.output)\n",
    "a2 = activation2.output\n",
    "print(a2.shape)\n",
    "layer3.forward(activation2.output)\n",
    "activation3.forward(layer3.output)\n",
    "logits = activation3.output\n",
    "print(logits.shape)"
   ]
  },
  {
   "cell_type": "markdown",
   "metadata": {},
   "source": [
    "# Loss"
   ]
  },
  {
   "cell_type": "code",
   "execution_count": 221,
   "metadata": {},
   "outputs": [
    {
     "name": "stdout",
     "output_type": "stream",
     "text": [
      "Loss : 0.6753306108134608\n",
      "Accuracy:59.599999999999994\n"
     ]
    }
   ],
   "source": [
    "loss_function = Loss_Categoricalcrossentropy()\n",
    "loss = loss_function.forward(logits,y_label)\n",
    "print(f\"Loss : {loss}\")\n",
    "\n",
    "y_pred = np.argmax(activation3.output,axis=1)\n",
    "accuracy = np.mean(y_pred == y)\n",
    "\n",
    "print(f\"Accuracy:{accuracy*100}\")"
   ]
  },
  {
   "cell_type": "markdown",
   "metadata": {},
   "source": [
    "# Backward pass"
   ]
  },
  {
   "cell_type": "code",
   "execution_count": 218,
   "metadata": {},
   "outputs": [],
   "source": [
    "w1 = layer1.weights\n",
    "w2 = layer2.weights\n",
    "w3 = layer3.weights\n",
    "dw3 = a2.T @ (logits - y_label)\n",
    "db3 = np.sum((logits - y_label),axis=0)\n",
    "da2 = (logits - y_label) @ w3.T\n",
    "dz2 = da2 * (a2 > 0)\n",
    "dw2 = a1.T @ dz2\n",
    "db2 = np.sum(dz2,axis=0)\n",
    "da1 = dz2 @ w2.T\n",
    "dz1 = da1 * (a1 > 0)\n",
    "dw1 = processed_labeled_data.T @ dz1\n",
    "db1 = np.sum(dz1,axis=0)"
   ]
  },
  {
   "cell_type": "markdown",
   "metadata": {},
   "source": [
    "# Gradient descent"
   ]
  },
  {
   "cell_type": "code",
   "execution_count": 250,
   "metadata": {},
   "outputs": [],
   "source": [
    "epochs = 100\n",
    "batch_size = 31\n",
    "learning_rate = 0.097\n",
    "# layer1.weights -= learning_rate * dw1\n",
    "# layer2.weights -= learning_rate * dw2\n",
    "# layer3.weights -= learning_rate * dw3\n",
    "# layer1.biases -= learning_rate * db1\n",
    "# layer2.biases -= learning_rate * db2\n",
    "# layer3.biases -= learning_rate * db3"
   ]
  },
  {
   "cell_type": "markdown",
   "metadata": {},
   "source": [
    "# Training loop"
   ]
  },
  {
   "cell_type": "code",
   "execution_count": 251,
   "metadata": {},
   "outputs": [
    {
     "name": "stdout",
     "output_type": "stream",
     "text": [
      "Epoch 1/100, Loss: 0.7298, Accuracy: 0.5286\n",
      "Epoch 2/100, Loss: 0.7290, Accuracy: 0.5286\n",
      "Epoch 3/100, Loss: 0.7276, Accuracy: 0.5286\n",
      "Epoch 4/100, Loss: 0.7262, Accuracy: 0.5286\n",
      "Epoch 5/100, Loss: 0.7248, Accuracy: 0.5286\n",
      "Epoch 6/100, Loss: 0.7235, Accuracy: 0.5323\n",
      "Epoch 7/100, Loss: 0.7222, Accuracy: 0.5323\n",
      "Epoch 8/100, Loss: 0.7210, Accuracy: 0.5373\n",
      "Epoch 9/100, Loss: 0.7198, Accuracy: 0.5373\n",
      "Epoch 10/100, Loss: 0.7187, Accuracy: 0.5403\n",
      "Epoch 11/100, Loss: 0.7175, Accuracy: 0.5403\n",
      "Epoch 12/100, Loss: 0.7165, Accuracy: 0.5403\n",
      "Epoch 13/100, Loss: 0.7154, Accuracy: 0.5403\n",
      "Epoch 14/100, Loss: 0.7144, Accuracy: 0.5403\n",
      "Epoch 15/100, Loss: 0.7135, Accuracy: 0.5403\n",
      "Epoch 16/100, Loss: 0.7125, Accuracy: 0.5406\n",
      "Epoch 17/100, Loss: 0.7116, Accuracy: 0.5406\n",
      "Epoch 18/100, Loss: 0.7107, Accuracy: 0.5406\n",
      "Epoch 19/100, Loss: 0.7099, Accuracy: 0.5406\n",
      "Epoch 20/100, Loss: 0.7091, Accuracy: 0.5406\n",
      "Epoch 21/100, Loss: 0.7083, Accuracy: 0.5406\n",
      "Epoch 22/100, Loss: 0.7075, Accuracy: 0.5406\n",
      "Epoch 23/100, Loss: 0.7068, Accuracy: 0.5406\n",
      "Epoch 24/100, Loss: 0.7060, Accuracy: 0.5406\n",
      "Epoch 25/100, Loss: 0.7053, Accuracy: 0.5406\n",
      "Epoch 26/100, Loss: 0.7047, Accuracy: 0.5459\n",
      "Epoch 27/100, Loss: 0.7040, Accuracy: 0.5476\n",
      "Epoch 28/100, Loss: 0.7034, Accuracy: 0.5529\n",
      "Epoch 29/100, Loss: 0.7027, Accuracy: 0.5529\n",
      "Epoch 30/100, Loss: 0.7021, Accuracy: 0.5529\n",
      "Epoch 31/100, Loss: 0.7015, Accuracy: 0.5529\n",
      "Epoch 32/100, Loss: 0.7010, Accuracy: 0.5529\n",
      "Epoch 33/100, Loss: 0.7004, Accuracy: 0.5529\n",
      "Epoch 34/100, Loss: 0.6999, Accuracy: 0.5529\n",
      "Epoch 35/100, Loss: 0.6994, Accuracy: 0.5529\n",
      "Epoch 36/100, Loss: 0.6989, Accuracy: 0.5529\n",
      "Epoch 37/100, Loss: 0.6984, Accuracy: 0.5529\n",
      "Epoch 38/100, Loss: 0.6979, Accuracy: 0.5529\n",
      "Epoch 39/100, Loss: 0.6975, Accuracy: 0.5529\n",
      "Epoch 40/100, Loss: 0.6970, Accuracy: 0.5529\n",
      "Epoch 41/100, Loss: 0.6966, Accuracy: 0.5539\n",
      "Epoch 42/100, Loss: 0.6961, Accuracy: 0.5569\n",
      "Epoch 43/100, Loss: 0.6957, Accuracy: 0.5569\n",
      "Epoch 44/100, Loss: 0.6953, Accuracy: 0.5603\n",
      "Epoch 45/100, Loss: 0.6949, Accuracy: 0.5603\n",
      "Epoch 46/100, Loss: 0.6946, Accuracy: 0.5603\n",
      "Epoch 47/100, Loss: 0.6942, Accuracy: 0.5603\n",
      "Epoch 48/100, Loss: 0.6938, Accuracy: 0.5603\n",
      "Epoch 49/100, Loss: 0.6935, Accuracy: 0.5603\n",
      "Epoch 50/100, Loss: 0.6931, Accuracy: 0.5603\n",
      "Epoch 51/100, Loss: 0.6928, Accuracy: 0.5609\n",
      "Epoch 52/100, Loss: 0.6925, Accuracy: 0.5666\n",
      "Epoch 53/100, Loss: 0.6922, Accuracy: 0.5666\n",
      "Epoch 54/100, Loss: 0.6919, Accuracy: 0.5666\n",
      "Epoch 55/100, Loss: 0.6916, Accuracy: 0.5666\n",
      "Epoch 56/100, Loss: 0.6913, Accuracy: 0.5666\n",
      "Epoch 57/100, Loss: 0.6910, Accuracy: 0.5696\n",
      "Epoch 58/100, Loss: 0.6907, Accuracy: 0.5696\n",
      "Epoch 59/100, Loss: 0.6905, Accuracy: 0.5696\n",
      "Epoch 60/100, Loss: 0.6902, Accuracy: 0.5696\n",
      "Epoch 61/100, Loss: 0.6899, Accuracy: 0.5696\n",
      "Epoch 62/100, Loss: 0.6897, Accuracy: 0.5696\n",
      "Epoch 63/100, Loss: 0.6894, Accuracy: 0.5696\n",
      "Epoch 64/100, Loss: 0.6892, Accuracy: 0.5696\n",
      "Epoch 65/100, Loss: 0.6890, Accuracy: 0.5696\n",
      "Epoch 66/100, Loss: 0.6887, Accuracy: 0.5696\n",
      "Epoch 67/100, Loss: 0.6885, Accuracy: 0.5733\n",
      "Epoch 68/100, Loss: 0.6883, Accuracy: 0.5733\n",
      "Epoch 69/100, Loss: 0.6881, Accuracy: 0.5733\n",
      "Epoch 70/100, Loss: 0.6879, Accuracy: 0.5733\n",
      "Epoch 71/100, Loss: 0.6877, Accuracy: 0.5733\n",
      "Epoch 72/100, Loss: 0.6875, Accuracy: 0.5729\n",
      "Epoch 73/100, Loss: 0.6873, Accuracy: 0.5729\n",
      "Epoch 74/100, Loss: 0.6871, Accuracy: 0.5753\n",
      "Epoch 75/100, Loss: 0.6869, Accuracy: 0.5803\n",
      "Epoch 76/100, Loss: 0.6867, Accuracy: 0.5803\n",
      "Epoch 77/100, Loss: 0.6865, Accuracy: 0.5803\n",
      "Epoch 78/100, Loss: 0.6864, Accuracy: 0.5803\n",
      "Epoch 79/100, Loss: 0.6862, Accuracy: 0.5803\n",
      "Epoch 80/100, Loss: 0.6860, Accuracy: 0.5803\n",
      "Epoch 81/100, Loss: 0.6859, Accuracy: 0.5803\n",
      "Epoch 82/100, Loss: 0.6857, Accuracy: 0.5803\n",
      "Epoch 83/100, Loss: 0.6856, Accuracy: 0.5803\n",
      "Epoch 84/100, Loss: 0.6854, Accuracy: 0.5803\n",
      "Epoch 85/100, Loss: 0.6853, Accuracy: 0.5803\n",
      "Epoch 86/100, Loss: 0.6851, Accuracy: 0.5803\n",
      "Epoch 87/100, Loss: 0.6850, Accuracy: 0.5803\n",
      "Epoch 88/100, Loss: 0.6848, Accuracy: 0.5803\n",
      "Epoch 89/100, Loss: 0.6847, Accuracy: 0.5803\n",
      "Epoch 90/100, Loss: 0.6845, Accuracy: 0.5803\n",
      "Epoch 91/100, Loss: 0.6844, Accuracy: 0.5803\n",
      "Epoch 92/100, Loss: 0.6843, Accuracy: 0.5803\n",
      "Epoch 93/100, Loss: 0.6842, Accuracy: 0.5803\n",
      "Epoch 94/100, Loss: 0.6840, Accuracy: 0.5803\n",
      "Epoch 95/100, Loss: 0.6839, Accuracy: 0.5803\n",
      "Epoch 96/100, Loss: 0.6838, Accuracy: 0.5803\n",
      "Epoch 97/100, Loss: 0.6837, Accuracy: 0.5803\n",
      "Epoch 98/100, Loss: 0.6836, Accuracy: 0.5819\n",
      "Epoch 99/100, Loss: 0.6834, Accuracy: 0.5819\n",
      "Epoch 100/100, Loss: 0.6833, Accuracy: 0.5829\n"
     ]
    }
   ],
   "source": [
    "losses = []\n",
    "accuracies = []\n",
    "\n",
    "for epoch in range(epochs):\n",
    "    epoch_loss = 0\n",
    "    epoch_accuracy = 0\n",
    "    for i in range(0,len(processed_labeled_data),batch_size):\n",
    "        X_batch = processed_labeled_data[i:i+batch_size]\n",
    "        y_batch = y[i:i+batch_size]\n",
    "        y_true_batch = y_label[i:i+batch_size]\n",
    "\n",
    "        layer1.forward(X_batch)\n",
    "        activation1.forward(layer1.output)\n",
    "        a1 = activation1.output\n",
    "\n",
    "        layer2.forward(activation1.output)\n",
    "        activation2.forward(layer2.output)\n",
    "        a2 = activation2.output\n",
    "\n",
    "        layer3.forward(activation2.output)\n",
    "        activation3.forward(layer3.output)\n",
    "        logits = activation3.output\n",
    "        loss = loss_function.forward(logits,y_true_batch)\n",
    "        epoch_loss += loss\n",
    "\n",
    "\n",
    "        y_pred = np.argmax(activation3.output,axis=1)\n",
    "        accuracy = np.mean(y_pred == y_batch)\n",
    "        epoch_accuracy += accuracy\n",
    "\n",
    "        d_loss = activation3.output - y_true_batch\n",
    "        d_layer3 = d_loss\n",
    "        d_layer2 = np.dot(d_layer3, layer3.weights.T) * (activation2.output > 0)\n",
    "        d_layer1 = np.dot(d_layer2, layer2.weights.T) * (activation1.output > 0)\n",
    "\n",
    "        # Update weights and biases\n",
    "        layer3.weights -= learning_rate * np.dot(activation2.output.T, d_layer3)\n",
    "        layer3.biases -= learning_rate * np.sum(d_layer3, axis=0, keepdims=True)\n",
    "        layer2.weights -= learning_rate * np.dot(activation1.output.T, d_layer2)\n",
    "        layer2.biases -= learning_rate * np.sum(d_layer2, axis=0, keepdims=True)\n",
    "        layer1.weights -= learning_rate * np.dot(X_batch.T, d_layer1)\n",
    "        layer1.biases -= learning_rate * np.sum(d_layer1, axis=0, keepdims=True)\n",
    "\n",
    "    epoch_loss /= len(processed_labeled_data) / batch_size\n",
    "    epoch_accuracy /= len(processed_labeled_data) / batch_size\n",
    "    losses.append(epoch_loss)\n",
    "    accuracies.append(epoch_accuracy)\n",
    "\n",
    "    print(f\"Epoch {epoch+1}/{epochs}, Loss: {epoch_loss:.4f}, Accuracy: {epoch_accuracy:.4f}\")\n",
    "    learning_rate*= 0.99"
   ]
  }
 ],
 "metadata": {
  "kernelspec": {
   "display_name": "env",
   "language": "python",
   "name": "python3"
  },
  "language_info": {
   "codemirror_mode": {
    "name": "ipython",
    "version": 3
   },
   "file_extension": ".py",
   "mimetype": "text/x-python",
   "name": "python",
   "nbconvert_exporter": "python",
   "pygments_lexer": "ipython3",
   "version": "3.12.4"
  }
 },
 "nbformat": 4,
 "nbformat_minor": 2
}
