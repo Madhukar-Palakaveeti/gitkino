{
 "cells": [
  {
   "cell_type": "markdown",
   "metadata": {},
   "source": [
    "# Imports"
   ]
  },
  {
   "cell_type": "code",
   "execution_count": 2,
   "metadata": {},
   "outputs": [],
   "source": [
    "import pandas as pd\n",
    "import json\n",
    "from sklearn.model_selection import train_test_split\n",
    "from sklearn.ensemble import RandomForestClassifier\n",
    "from sklearn.metrics import classification_report"
   ]
  },
  {
   "cell_type": "markdown",
   "metadata": {},
   "source": [
    "# Loading the dataset"
   ]
  },
  {
   "cell_type": "code",
   "execution_count": 111,
   "metadata": {},
   "outputs": [
    {
     "data": {
      "text/plain": [
       "20111"
      ]
     },
     "execution_count": 111,
     "metadata": {},
     "output_type": "execute_result"
    }
   ],
   "source": [
    "with open('resources/final_dataset.json' , 'r') as f:\n",
    "    ob = json.load(f)\n",
    "data = ob['data']\n",
    "len(data)\n"
   ]
  },
  {
   "cell_type": "markdown",
   "metadata": {},
   "source": [
    "# Getting all the languages avaialble"
   ]
  },
  {
   "cell_type": "code",
   "execution_count": 112,
   "metadata": {},
   "outputs": [
    {
     "name": "stdout",
     "output_type": "stream",
     "text": [
      "{'Stan', 'Fortran', 'ANTLR', 'Awk', 'PostScript', 'Eiffel', 'Chapel', 'Python', 'SQLPL', 'ASP', 'Perl', 'nesC', 'Component Pascal', 'BlitzMax', 'SQL', 'Eagle', 'TL-Verilog', 'Fluent', 'CoffeeScript', 'TLA', 'Parrot', 'M4', 'Astro', 'LLVM', 'Roff', 'Gosu', 'Asymptote', 'Puppet', 'Gettext Catalog', 'Haml', 'Vim script', 'Blade', 'RAML', 'ZIL', 'mcfunction', 'Xtend', 'NetLogo', 'VBA', 'PLpgSQL', 'Factor', 'XQuery', 'Self', 'Twig', 'Cadence', 'Perl 6', 'HaXe', 'Boogie', 'LOLCODE', 'Lua', 'Reason', 'OpenSCAD', 'ActionScript', 'G-code', 'FreeMarker', 'D', 'Verilog', 'Ragel', 'Dhall', 'Slash', 'APL', 'RPC', 'Lasso', 'XSLT', 'SCSS', 'WebIDL', 'Zig', 'Wikitext', 'Fancy', 'Crystal', 'Smalltalk', 'PogoScript', 'Visual Basic 6.0', 'Stata', 'JetBrains MPS', 'Common Lisp', 'Kotlin', 'Hy', 'Pony', 'Nix', 'Gleam', 'REALbasic', 'Mirah', 'Coq', 'Assembly', 'ColdFusion', 'Logos', 'Emacs Lisp', 'Hack', 'Arc', 'Adblock Filter List', 'Bikeshed', 'Brightscript', 'QML', 'Visual Basic .NET', 'JSONiq', 'COBOL', 'Boo', 'KakouneScript', 'Cython', 'Mako', 'GAP', 'Clojure', 'NSIS', 'CodeQL', 'Zeek', 'Mustache', 'Standard ML', 'SourcePawn', 'Nginx', 'Augeas', 'PureBasic', 'Shell', 'E', 'XS', 'Kaitai Struct', 'EJS', 'AutoHotkey', 'Vim Script', 'ShaderLab', 'Cucumber', 'GDScript', 'Batchfile', 'VHDL', 'SaltStack', 'Inno Setup', 'J', 'Bluespec', 'Stylus', 'AMPL', 'YASnippet', 'QMake', 'JSON', 'Vim Snippet', 'TeX', 'MAXScript', 'Forth', 'Agda', 'C#', 'CMake', 'Circom', 'Inform 7', 'Pure Data', 'SQF', 'Monkey', 'Rich Text Format', 'Swift', 'Monkey C', 'Ceylon', 'Solidity', 'Procfile', 'DTrace', 'Thrift', 'AutoIt', 'R', 'FORTRAN', 'Limbo', 'Nextflow', 'VimL', 'Frege', 'Idris', 'Objective-C++', 'C', 'Gherkin', 'CLIPS', 'MQL5', 'Fennel', 'VCL', 'Starlark', 'Makefile', 'AGS Script', 'Erlang', 'Rust', 'F#', 'Yacc', 'DCPU-16 ASM', 'BASIC', 'Dafny', 'Bro', 'ECL', 'Elm', None, 'Perl6', \"Cap'n Proto\", 'Markdown', 'Haskell', 'Objective-J', 'Janet', 'MATLAB', 'RobotFramework', 'xBase', 'Jinja', 'OCaml', 'NewLisp', 'CartoCSS', 'Imba', 'Module Management System', 'BitBake', 'Elvish', 'DOT', 'Racket', 'YAML', 'ABAP', 'C++', 'q', 'ATS', 'Haxe', 'Jsonnet', 'Protocol Buffer', 'Slim', 'RenderScript', 'Isabelle', 'Go', 'PLSQL', 'GLSL', 'GCC Machine Description', 'SuperCollider', 'Nunjucks', 'CUE', 'POV-Ray SDL', 'WebAssembly', 'Mermaid', 'V', 'WGSL', 'Vue', 'Shen', 'Oz', 'Ada', 'Processing', 'KiCad', 'Mercury', 'Io', 'Cool', 'Volt', 'Jupyter Notebook', 'Rouge', 'Alloy', 'SWIG', 'PureScript', 'Nushell', 'OpenEdge ABL', 'CSS', 'ReScript', 'HTML', 'IDL', 'Nimrod', 'ASL', 'Pug', 'Julia', 'Elixir', 'Web Ontology Language', 'FreeBasic', 'MoonScript', 'Just', 'ooc', 'Groff', 'Java', 'TSQL', 'Marko', 'Scilab', 'SMT', 'ChucK', 'Sage', 'Max', 'ApacheConf', 'TypeScript', 'Handlebars', 'Mathematica', 'LabVIEW', 'AspectJ', 'API Blueprint', '1C Enterprise', 'Less', 'Nemerle', 'MQL4', 'Sass', 'DIGITAL Command Language', 'Vala', 'HCL', 'Odin', 'Ragel in Ruby Host', 'Dogescript', 'Typst', 'Ballerina', 'Gnuplot', 'LiveScript', 'Raku', 'JavaScript', 'Modula-2', 'Liquid', 'ObjectScript', 'Arduino', 'CAP CDS', 'UnrealScript', 'FLUX', 'Scala', 'Bicep', 'PowerShell', 'LilyPond', 'Rebol', 'Diff', 'Nim', 'Pawn', 'Dylan', 'Matlab', 'Game Maker Language', 'Svelte', 'Mojo', 'RouterOS Script', 'Visual Basic', 'Open Policy Agent', 'XC', 'PHP', 'Pascal', 'AngelScript', 'YARA', 'Lean', 'Nu', 'SAS', 'Cuda', 'Csound Document', 'LSL', 'ZenScript', 'Smarty', 'Dart', 'AppleScript', 'MDX', 'Bison', 'SystemVerilog', 'XML', 'LookML', 'Dockerfile', 'M', 'Tcl', 'Ruby', 'Delphi', 'Apex', 'Brainfuck', 'Scheme', 'Prolog', 'Objective-C', 'Groovy'}\n"
     ]
    }
   ],
   "source": [
    "languages = set()\n",
    "for user in data:\n",
    "    for repo in user['repo_details']:\n",
    "        languages.add(repo['language'])\n",
    "\n",
    "print(languages)"
   ]
  },
  {
   "cell_type": "markdown",
   "metadata": {},
   "source": [
    "# Data preprocessing\n",
    "- counting all the aggregate features for labeling"
   ]
  },
  {
   "cell_type": "code",
   "execution_count": 129,
   "metadata": {},
   "outputs": [
    {
     "name": "stdout",
     "output_type": "stream",
     "text": [
      "{'login': 'stiff', 'user_url': 'https://api.github.com/users/stiff', 'html_url': 'https://github.com/stiff', 'repos_url': 'https://api.github.com/users/stiff/repos', 'followers': 14, 'repo_details': [{'language': 'Ruby', 'stars': 0, 'forks': 0, 'watchers': 0}, {'language': 'Ruby', 'stars': 0, 'forks': 0, 'watchers': 0}, {'language': 'Ruby', 'stars': 64, 'forks': 16, 'watchers': 64}, {'language': 'Ruby', 'stars': 1, 'forks': 0, 'watchers': 1}, {'language': 'CoffeeScript', 'stars': 0, 'forks': 0, 'watchers': 0}, {'language': 'JavaScript', 'stars': 0, 'forks': 1, 'watchers': 0}, {'language': 'JavaScript', 'stars': 1, 'forks': 0, 'watchers': 1}, {'language': 'Ruby', 'stars': 1, 'forks': 0, 'watchers': 1}, {'language': 'JavaScript', 'stars': 0, 'forks': 1, 'watchers': 0}, {'language': 'Ruby', 'stars': 1, 'forks': 0, 'watchers': 1}, {'language': 'JavaScript', 'stars': 0, 'forks': 0, 'watchers': 0}, {'language': 'Ruby', 'stars': 6, 'forks': 0, 'watchers': 6}, {'language': 'JavaScript', 'stars': 6, 'forks': 0, 'watchers': 6}, {'language': None, 'stars': 1, 'forks': 0, 'watchers': 1}, {'language': 'Ruby', 'stars': 0, 'forks': 1, 'watchers': 0}, {'language': 'Ruby', 'stars': 0, 'forks': 0, 'watchers': 0}, {'language': 'Ruby', 'stars': 0, 'forks': 0, 'watchers': 0}, {'language': 'Python', 'stars': 0, 'forks': 0, 'watchers': 0}, {'language': 'Ruby', 'stars': 2, 'forks': 2, 'watchers': 2}, {'language': 'JavaScript', 'stars': 1, 'forks': 0, 'watchers': 1}, {'language': 'JavaScript', 'stars': 0, 'forks': 0, 'watchers': 0}], 'total_stars': 84, 'total_forks': 21, 'total_watchers': 84, 'languages': {'Ruby', 'CoffeeScript', 'JavaScript', 'Python'}, 'label': 0, 'repo_count': 21}\n"
     ]
    }
   ],
   "source": [
    "for user in data:\n",
    "    user['total_stars'] = 0\n",
    "    user['total_forks'] = 0\n",
    "    user['total_watchers'] = 0\n",
    "    user['languages'] = set()\n",
    "    user['repo_count'] = len(user['repo_details'])\n",
    "    for repo in user['repo_details'] :\n",
    "        if repo['language'] is not None:\n",
    "            user['languages'].add(repo['language'])\n",
    "        user['total_stars'] += repo['stars']\n",
    "        user['total_forks'] += repo['forks']\n",
    "        user['total_watchers'] += repo['watchers']\n",
    "        \n",
    "\n",
    "print(data[1])"
   ]
  },
  {
   "cell_type": "markdown",
   "metadata": {},
   "source": [
    "# Removing the samples without any repositories"
   ]
  },
  {
   "cell_type": "code",
   "execution_count": 130,
   "metadata": {},
   "outputs": [
    {
     "name": "stdout",
     "output_type": "stream",
     "text": [
      "15551\n"
     ]
    }
   ],
   "source": [
    "new_data = [user for user in data if user['repo_details']]\n",
    "print(len(new_data))\n"
   ]
  },
  {
   "cell_type": "markdown",
   "metadata": {},
   "source": [
    "# Splitting the dataset into a small one for labeling"
   ]
  },
  {
   "cell_type": "code",
   "execution_count": 131,
   "metadata": {},
   "outputs": [],
   "source": [
    "req_data = new_data[:3000]\n",
    "for user in req_data:\n",
    "    user['label'] = 0\n"
   ]
  },
  {
   "cell_type": "markdown",
   "metadata": {},
   "source": [
    "# Loose labeling logic"
   ]
  },
  {
   "cell_type": "code",
   "execution_count": 132,
   "metadata": {},
   "outputs": [
    {
     "name": "stdout",
     "output_type": "stream",
     "text": [
      "1788\n"
     ]
    }
   ],
   "source": [
    "top_tier_languages = {'Python','C', 'C++', 'JavaScript', 'TypeScript', 'Ruby', 'Rust', 'Lua', 'Assembly', 'Zig'}\n",
    "for user in req_data:\n",
    "    if user['followers'] >= 40 or user['total_stars'] >= 40 or user['total_forks'] >= 40 or user['total_watchers'] >= 40:\n",
    "        user['label'] = 0\n",
    "    else:\n",
    "        if len(user['languages'] & top_tier_languages) >= 4:\n",
    "            user['label'] = 0\n",
    "        else:\n",
    "            if user['repo_count'] >= 10:\n",
    "                user['label'] = 0\n",
    "            user['label'] = 1\n",
    "        user['label'] = 1\n",
    "print(len([user for user in req_data if user['label']]))"
   ]
  },
  {
   "cell_type": "markdown",
   "metadata": {},
   "source": [
    "# Converting to dataframes for training"
   ]
  },
  {
   "cell_type": "code",
   "execution_count": 133,
   "metadata": {},
   "outputs": [],
   "source": [
    "df = pd.DataFrame(req_data)\n",
    "df.drop(columns=['repo_details']).to_csv('resources/req_dataset.csv', header=True, index=False)"
   ]
  },
  {
   "cell_type": "code",
   "execution_count": 134,
   "metadata": {},
   "outputs": [
    {
     "data": {
      "text/html": [
       "<div>\n",
       "<style scoped>\n",
       "    .dataframe tbody tr th:only-of-type {\n",
       "        vertical-align: middle;\n",
       "    }\n",
       "\n",
       "    .dataframe tbody tr th {\n",
       "        vertical-align: top;\n",
       "    }\n",
       "\n",
       "    .dataframe thead th {\n",
       "        text-align: right;\n",
       "    }\n",
       "</style>\n",
       "<table border=\"1\" class=\"dataframe\">\n",
       "  <thead>\n",
       "    <tr style=\"text-align: right;\">\n",
       "      <th></th>\n",
       "      <th>followers</th>\n",
       "      <th>total_stars</th>\n",
       "      <th>total_forks</th>\n",
       "      <th>total_watchers</th>\n",
       "      <th>repo_count</th>\n",
       "    </tr>\n",
       "  </thead>\n",
       "  <tbody>\n",
       "    <tr>\n",
       "      <th>0</th>\n",
       "      <td>14</td>\n",
       "      <td>84</td>\n",
       "      <td>21</td>\n",
       "      <td>84</td>\n",
       "      <td>21</td>\n",
       "    </tr>\n",
       "    <tr>\n",
       "      <th>1</th>\n",
       "      <td>490</td>\n",
       "      <td>56</td>\n",
       "      <td>27</td>\n",
       "      <td>56</td>\n",
       "      <td>30</td>\n",
       "    </tr>\n",
       "    <tr>\n",
       "      <th>2</th>\n",
       "      <td>5</td>\n",
       "      <td>0</td>\n",
       "      <td>0</td>\n",
       "      <td>0</td>\n",
       "      <td>3</td>\n",
       "    </tr>\n",
       "    <tr>\n",
       "      <th>3</th>\n",
       "      <td>5</td>\n",
       "      <td>8</td>\n",
       "      <td>3</td>\n",
       "      <td>8</td>\n",
       "      <td>12</td>\n",
       "    </tr>\n",
       "    <tr>\n",
       "      <th>4</th>\n",
       "      <td>8</td>\n",
       "      <td>13</td>\n",
       "      <td>6</td>\n",
       "      <td>13</td>\n",
       "      <td>9</td>\n",
       "    </tr>\n",
       "    <tr>\n",
       "      <th>...</th>\n",
       "      <td>...</td>\n",
       "      <td>...</td>\n",
       "      <td>...</td>\n",
       "      <td>...</td>\n",
       "      <td>...</td>\n",
       "    </tr>\n",
       "    <tr>\n",
       "      <th>2995</th>\n",
       "      <td>114</td>\n",
       "      <td>1751</td>\n",
       "      <td>173</td>\n",
       "      <td>1751</td>\n",
       "      <td>25</td>\n",
       "    </tr>\n",
       "    <tr>\n",
       "      <th>2996</th>\n",
       "      <td>7</td>\n",
       "      <td>2</td>\n",
       "      <td>0</td>\n",
       "      <td>2</td>\n",
       "      <td>10</td>\n",
       "    </tr>\n",
       "    <tr>\n",
       "      <th>2997</th>\n",
       "      <td>13</td>\n",
       "      <td>36</td>\n",
       "      <td>3</td>\n",
       "      <td>36</td>\n",
       "      <td>30</td>\n",
       "    </tr>\n",
       "    <tr>\n",
       "      <th>2998</th>\n",
       "      <td>109</td>\n",
       "      <td>36</td>\n",
       "      <td>5</td>\n",
       "      <td>36</td>\n",
       "      <td>30</td>\n",
       "    </tr>\n",
       "    <tr>\n",
       "      <th>2999</th>\n",
       "      <td>155</td>\n",
       "      <td>75</td>\n",
       "      <td>8</td>\n",
       "      <td>75</td>\n",
       "      <td>30</td>\n",
       "    </tr>\n",
       "  </tbody>\n",
       "</table>\n",
       "<p>3000 rows × 5 columns</p>\n",
       "</div>"
      ],
      "text/plain": [
       "      followers  total_stars  total_forks  total_watchers  repo_count\n",
       "0            14           84           21              84          21\n",
       "1           490           56           27              56          30\n",
       "2             5            0            0               0           3\n",
       "3             5            8            3               8          12\n",
       "4             8           13            6              13           9\n",
       "...         ...          ...          ...             ...         ...\n",
       "2995        114         1751          173            1751          25\n",
       "2996          7            2            0               2          10\n",
       "2997         13           36            3              36          30\n",
       "2998        109           36            5              36          30\n",
       "2999        155           75            8              75          30\n",
       "\n",
       "[3000 rows x 5 columns]"
      ]
     },
     "execution_count": 134,
     "metadata": {},
     "output_type": "execute_result"
    }
   ],
   "source": [
    "df[['followers', 'total_stars', 'total_forks', 'total_watchers', 'repo_count']]"
   ]
  },
  {
   "cell_type": "markdown",
   "metadata": {},
   "source": [
    "# Training the model using random forest"
   ]
  },
  {
   "cell_type": "code",
   "execution_count": 141,
   "metadata": {},
   "outputs": [
    {
     "name": "stdout",
     "output_type": "stream",
     "text": [
      "              precision    recall  f1-score   support\n",
      "\n",
      "           0       1.00      1.00      1.00       650\n",
      "           1       1.00      1.00      1.00      1150\n",
      "\n",
      "    accuracy                           1.00      1800\n",
      "   macro avg       1.00      1.00      1.00      1800\n",
      "weighted avg       1.00      1.00      1.00      1800\n",
      "\n"
     ]
    }
   ],
   "source": [
    "X = df[['followers', 'total_stars', 'total_forks', 'total_watchers', 'repo_count']]\n",
    "y = df['label']\n",
    "\n",
    "X_train, X_test, y_train, y_test = train_test_split(X, y, test_size=0.2, random_state=42)\n",
    "\n",
    "clf = RandomForestClassifier(n_estimators=100, random_state=42)\n",
    "clf.fit(X_train, y_train)\n",
    "\n",
    "y_pred = clf.predict(X_test)\n",
    "print(classification_report(y_test, y_pred))\n",
    "\n",
    "unlabeled_data = pd.DataFrame(new_data[9000:])\n",
    "X_unlabeled = unlabeled_data[['followers', 'total_stars', 'total_forks', 'total_watchers', 'repo_count']]\n",
    "unlabeled_data['label'] = clf.predict(X_unlabeled)\n",
    "\n",
    "unlabeled_data.to_csv('resources/labeled_data.csv', index=False)"
   ]
  },
  {
   "cell_type": "markdown",
   "metadata": {},
   "source": [
    "# Labeled dataset"
   ]
  },
  {
   "cell_type": "code",
   "execution_count": 142,
   "metadata": {},
   "outputs": [
    {
     "data": {
      "text/html": [
       "<div>\n",
       "<style scoped>\n",
       "    .dataframe tbody tr th:only-of-type {\n",
       "        vertical-align: middle;\n",
       "    }\n",
       "\n",
       "    .dataframe tbody tr th {\n",
       "        vertical-align: top;\n",
       "    }\n",
       "\n",
       "    .dataframe thead th {\n",
       "        text-align: right;\n",
       "    }\n",
       "</style>\n",
       "<table border=\"1\" class=\"dataframe\">\n",
       "  <thead>\n",
       "    <tr style=\"text-align: right;\">\n",
       "      <th></th>\n",
       "      <th>login</th>\n",
       "      <th>user_url</th>\n",
       "      <th>html_url</th>\n",
       "      <th>repos_url</th>\n",
       "      <th>followers</th>\n",
       "      <th>repo_details</th>\n",
       "      <th>total_stars</th>\n",
       "      <th>total_forks</th>\n",
       "      <th>total_watchers</th>\n",
       "      <th>languages</th>\n",
       "      <th>label</th>\n",
       "      <th>repo_count</th>\n",
       "    </tr>\n",
       "  </thead>\n",
       "  <tbody>\n",
       "    <tr>\n",
       "      <th>0</th>\n",
       "      <td>stiff</td>\n",
       "      <td>https://api.github.com/users/stiff</td>\n",
       "      <td>https://github.com/stiff</td>\n",
       "      <td>https://api.github.com/users/stiff/repos</td>\n",
       "      <td>14</td>\n",
       "      <td>[{'language': 'Ruby', 'stars': 0, 'forks': 0, ...</td>\n",
       "      <td>84</td>\n",
       "      <td>21</td>\n",
       "      <td>84</td>\n",
       "      <td>{Ruby, CoffeeScript, JavaScript, Python}</td>\n",
       "      <td>0</td>\n",
       "      <td>21</td>\n",
       "    </tr>\n",
       "    <tr>\n",
       "      <th>1</th>\n",
       "      <td>jadonk</td>\n",
       "      <td>https://api.github.com/users/jadonk</td>\n",
       "      <td>https://github.com/jadonk</td>\n",
       "      <td>https://api.github.com/users/jadonk/repos</td>\n",
       "      <td>490</td>\n",
       "      <td>[{'language': 'JavaScript', 'stars': 3, 'forks...</td>\n",
       "      <td>56</td>\n",
       "      <td>27</td>\n",
       "      <td>56</td>\n",
       "      <td>{Shell, JavaScript, C, Python, C++, PHP, OpenS...</td>\n",
       "      <td>0</td>\n",
       "      <td>30</td>\n",
       "    </tr>\n",
       "    <tr>\n",
       "      <th>2</th>\n",
       "      <td>danBerman</td>\n",
       "      <td>https://api.github.com/users/danBerman</td>\n",
       "      <td>https://github.com/danBerman</td>\n",
       "      <td>https://api.github.com/users/danBerman/repos</td>\n",
       "      <td>5</td>\n",
       "      <td>[{'language': None, 'stars': 0, 'forks': 0, 'w...</td>\n",
       "      <td>0</td>\n",
       "      <td>0</td>\n",
       "      <td>0</td>\n",
       "      <td>{C}</td>\n",
       "      <td>1</td>\n",
       "      <td>3</td>\n",
       "    </tr>\n",
       "    <tr>\n",
       "      <th>3</th>\n",
       "      <td>afrojas</td>\n",
       "      <td>https://api.github.com/users/afrojas</td>\n",
       "      <td>https://github.com/afrojas</td>\n",
       "      <td>https://api.github.com/users/afrojas/repos</td>\n",
       "      <td>5</td>\n",
       "      <td>[{'language': 'JavaScript', 'stars': 2, 'forks...</td>\n",
       "      <td>8</td>\n",
       "      <td>3</td>\n",
       "      <td>8</td>\n",
       "      <td>{Ruby, JavaScript, HTML}</td>\n",
       "      <td>1</td>\n",
       "      <td>12</td>\n",
       "    </tr>\n",
       "    <tr>\n",
       "      <th>4</th>\n",
       "      <td>august</td>\n",
       "      <td>https://api.github.com/users/august</td>\n",
       "      <td>https://github.com/august</td>\n",
       "      <td>https://api.github.com/users/august/repos</td>\n",
       "      <td>8</td>\n",
       "      <td>[{'language': 'JavaScript', 'stars': 0, 'forks...</td>\n",
       "      <td>13</td>\n",
       "      <td>6</td>\n",
       "      <td>13</td>\n",
       "      <td>{PHP, JavaScript, Objective-C}</td>\n",
       "      <td>1</td>\n",
       "      <td>9</td>\n",
       "    </tr>\n",
       "    <tr>\n",
       "      <th>...</th>\n",
       "      <td>...</td>\n",
       "      <td>...</td>\n",
       "      <td>...</td>\n",
       "      <td>...</td>\n",
       "      <td>...</td>\n",
       "      <td>...</td>\n",
       "      <td>...</td>\n",
       "      <td>...</td>\n",
       "      <td>...</td>\n",
       "      <td>...</td>\n",
       "      <td>...</td>\n",
       "      <td>...</td>\n",
       "    </tr>\n",
       "    <tr>\n",
       "      <th>6546</th>\n",
       "      <td>dzhang</td>\n",
       "      <td>https://api.github.com/users/dzhang</td>\n",
       "      <td>https://github.com/dzhang</td>\n",
       "      <td>https://api.github.com/users/dzhang/repos</td>\n",
       "      <td>3</td>\n",
       "      <td>[{'language': 'Python', 'stars': 0, 'forks': 0...</td>\n",
       "      <td>0</td>\n",
       "      <td>0</td>\n",
       "      <td>0</td>\n",
       "      <td>{'Python', 'Jupyter Notebook', 'Visual Basic'}</td>\n",
       "      <td>1</td>\n",
       "      <td>5</td>\n",
       "    </tr>\n",
       "    <tr>\n",
       "      <th>6547</th>\n",
       "      <td>gmiroshnykov</td>\n",
       "      <td>https://api.github.com/users/gmiroshnykov</td>\n",
       "      <td>https://github.com/gmiroshnykov</td>\n",
       "      <td>https://api.github.com/users/gmiroshnykov/repos</td>\n",
       "      <td>47</td>\n",
       "      <td>[{'language': 'Python', 'stars': 0, 'forks': 0...</td>\n",
       "      <td>36</td>\n",
       "      <td>12</td>\n",
       "      <td>36</td>\n",
       "      <td>{'Python'}</td>\n",
       "      <td>0</td>\n",
       "      <td>30</td>\n",
       "    </tr>\n",
       "    <tr>\n",
       "      <th>6548</th>\n",
       "      <td>ajbrown</td>\n",
       "      <td>https://api.github.com/users/ajbrown</td>\n",
       "      <td>https://github.com/ajbrown</td>\n",
       "      <td>https://api.github.com/users/ajbrown/repos</td>\n",
       "      <td>26</td>\n",
       "      <td>[{'language': 'SCSS', 'stars': 0, 'forks': 0, ...</td>\n",
       "      <td>106</td>\n",
       "      <td>66</td>\n",
       "      <td>106</td>\n",
       "      <td>{'HTML', 'JavaScript', 'SCSS', 'PHP', 'Go', 'G...</td>\n",
       "      <td>0</td>\n",
       "      <td>30</td>\n",
       "    </tr>\n",
       "    <tr>\n",
       "      <th>6549</th>\n",
       "      <td>benpflaum</td>\n",
       "      <td>https://api.github.com/users/benpflaum</td>\n",
       "      <td>https://github.com/benpflaum</td>\n",
       "      <td>https://api.github.com/users/benpflaum/repos</td>\n",
       "      <td>3</td>\n",
       "      <td>[{'language': 'Python', 'stars': 0, 'forks': 0...</td>\n",
       "      <td>0</td>\n",
       "      <td>0</td>\n",
       "      <td>0</td>\n",
       "      <td>{'Python'}</td>\n",
       "      <td>1</td>\n",
       "      <td>1</td>\n",
       "    </tr>\n",
       "    <tr>\n",
       "      <th>6550</th>\n",
       "      <td>blerou</td>\n",
       "      <td>https://api.github.com/users/blerou</td>\n",
       "      <td>https://github.com/blerou</td>\n",
       "      <td>https://api.github.com/users/blerou/repos</td>\n",
       "      <td>21</td>\n",
       "      <td>[{'language': 'Clojure', 'stars': 0, 'forks': ...</td>\n",
       "      <td>20</td>\n",
       "      <td>26</td>\n",
       "      <td>20</td>\n",
       "      <td>{'Shell', 'HTML', 'Ruby', 'Java', 'JavaScript'...</td>\n",
       "      <td>1</td>\n",
       "      <td>30</td>\n",
       "    </tr>\n",
       "  </tbody>\n",
       "</table>\n",
       "<p>15551 rows × 12 columns</p>\n",
       "</div>"
      ],
      "text/plain": [
       "             login                                   user_url  \\\n",
       "0            stiff         https://api.github.com/users/stiff   \n",
       "1           jadonk        https://api.github.com/users/jadonk   \n",
       "2        danBerman     https://api.github.com/users/danBerman   \n",
       "3          afrojas       https://api.github.com/users/afrojas   \n",
       "4           august        https://api.github.com/users/august   \n",
       "...            ...                                        ...   \n",
       "6546        dzhang        https://api.github.com/users/dzhang   \n",
       "6547  gmiroshnykov  https://api.github.com/users/gmiroshnykov   \n",
       "6548       ajbrown       https://api.github.com/users/ajbrown   \n",
       "6549     benpflaum     https://api.github.com/users/benpflaum   \n",
       "6550        blerou        https://api.github.com/users/blerou   \n",
       "\n",
       "                             html_url  \\\n",
       "0            https://github.com/stiff   \n",
       "1           https://github.com/jadonk   \n",
       "2        https://github.com/danBerman   \n",
       "3          https://github.com/afrojas   \n",
       "4           https://github.com/august   \n",
       "...                               ...   \n",
       "6546        https://github.com/dzhang   \n",
       "6547  https://github.com/gmiroshnykov   \n",
       "6548       https://github.com/ajbrown   \n",
       "6549     https://github.com/benpflaum   \n",
       "6550        https://github.com/blerou   \n",
       "\n",
       "                                            repos_url  followers  \\\n",
       "0            https://api.github.com/users/stiff/repos         14   \n",
       "1           https://api.github.com/users/jadonk/repos        490   \n",
       "2        https://api.github.com/users/danBerman/repos          5   \n",
       "3          https://api.github.com/users/afrojas/repos          5   \n",
       "4           https://api.github.com/users/august/repos          8   \n",
       "...                                               ...        ...   \n",
       "6546        https://api.github.com/users/dzhang/repos          3   \n",
       "6547  https://api.github.com/users/gmiroshnykov/repos         47   \n",
       "6548       https://api.github.com/users/ajbrown/repos         26   \n",
       "6549     https://api.github.com/users/benpflaum/repos          3   \n",
       "6550        https://api.github.com/users/blerou/repos         21   \n",
       "\n",
       "                                           repo_details  total_stars  \\\n",
       "0     [{'language': 'Ruby', 'stars': 0, 'forks': 0, ...           84   \n",
       "1     [{'language': 'JavaScript', 'stars': 3, 'forks...           56   \n",
       "2     [{'language': None, 'stars': 0, 'forks': 0, 'w...            0   \n",
       "3     [{'language': 'JavaScript', 'stars': 2, 'forks...            8   \n",
       "4     [{'language': 'JavaScript', 'stars': 0, 'forks...           13   \n",
       "...                                                 ...          ...   \n",
       "6546  [{'language': 'Python', 'stars': 0, 'forks': 0...            0   \n",
       "6547  [{'language': 'Python', 'stars': 0, 'forks': 0...           36   \n",
       "6548  [{'language': 'SCSS', 'stars': 0, 'forks': 0, ...          106   \n",
       "6549  [{'language': 'Python', 'stars': 0, 'forks': 0...            0   \n",
       "6550  [{'language': 'Clojure', 'stars': 0, 'forks': ...           20   \n",
       "\n",
       "      total_forks  total_watchers  \\\n",
       "0              21              84   \n",
       "1              27              56   \n",
       "2               0               0   \n",
       "3               3               8   \n",
       "4               6              13   \n",
       "...           ...             ...   \n",
       "6546            0               0   \n",
       "6547           12              36   \n",
       "6548           66             106   \n",
       "6549            0               0   \n",
       "6550           26              20   \n",
       "\n",
       "                                              languages  label  repo_count  \n",
       "0              {Ruby, CoffeeScript, JavaScript, Python}      0          21  \n",
       "1     {Shell, JavaScript, C, Python, C++, PHP, OpenS...      0          30  \n",
       "2                                                   {C}      1           3  \n",
       "3                              {Ruby, JavaScript, HTML}      1          12  \n",
       "4                        {PHP, JavaScript, Objective-C}      1           9  \n",
       "...                                                 ...    ...         ...  \n",
       "6546     {'Python', 'Jupyter Notebook', 'Visual Basic'}      1           5  \n",
       "6547                                         {'Python'}      0          30  \n",
       "6548  {'HTML', 'JavaScript', 'SCSS', 'PHP', 'Go', 'G...      0          30  \n",
       "6549                                         {'Python'}      1           1  \n",
       "6550  {'Shell', 'HTML', 'Ruby', 'Java', 'JavaScript'...      1          30  \n",
       "\n",
       "[15551 rows x 12 columns]"
      ]
     },
     "execution_count": 142,
     "metadata": {},
     "output_type": "execute_result"
    }
   ],
   "source": [
    "new_labeled_data = pd.read_csv('resources/labeled_data.csv')\n",
    "df = pd.concat([df,new_labeled_data])\n",
    "df"
   ]
  },
  {
   "cell_type": "code",
   "execution_count": 143,
   "metadata": {},
   "outputs": [],
   "source": [
    "df.to_csv('resources/labeled_data.csv', index=False)\n"
   ]
  },
  {
   "cell_type": "code",
   "execution_count": 146,
   "metadata": {},
   "outputs": [
    {
     "data": {
      "text/plain": [
       "10367"
      ]
     },
     "execution_count": 146,
     "metadata": {},
     "output_type": "execute_result"
    }
   ],
   "source": [
    "df.loc[df['label'] == 1].shape[0]"
   ]
  },
  {
   "cell_type": "markdown",
   "metadata": {},
   "source": [
    "# Sample prediction"
   ]
  },
  {
   "cell_type": "code",
   "execution_count": 149,
   "metadata": {},
   "outputs": [
    {
     "name": "stderr",
     "output_type": "stream",
     "text": [
      "c:\\Users\\madhu\\projects\\gitkino\\env\\Lib\\site-packages\\sklearn\\base.py:493: UserWarning: X does not have valid feature names, but RandomForestClassifier was fitted with feature names\n",
      "  warnings.warn(\n"
     ]
    },
    {
     "data": {
      "text/plain": [
       "array([1])"
      ]
     },
     "execution_count": 149,
     "metadata": {},
     "output_type": "execute_result"
    }
   ],
   "source": [
    "clf.predict([[4, 0, 0, 0, 13]])"
   ]
  }
 ],
 "metadata": {
  "kernelspec": {
   "display_name": "env",
   "language": "python",
   "name": "python3"
  },
  "language_info": {
   "codemirror_mode": {
    "name": "ipython",
    "version": 3
   },
   "file_extension": ".py",
   "mimetype": "text/x-python",
   "name": "python",
   "nbconvert_exporter": "python",
   "pygments_lexer": "ipython3",
   "version": "3.12.4"
  }
 },
 "nbformat": 4,
 "nbformat_minor": 2
}
